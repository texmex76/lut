{
 "cells": [
  {
   "cell_type": "code",
   "execution_count": null,
   "id": "26631f2b",
   "metadata": {},
   "outputs": [],
   "source": [
    "%load_ext autoreload\n",
    "%autoreload 2"
   ]
  },
  {
   "cell_type": "code",
   "execution_count": null,
   "id": "ecfb2b52",
   "metadata": {},
   "outputs": [],
   "source": [
    "import numpy as np\n",
    "import copy\n",
    "\n",
    "from sklearn import datasets\n",
    "from sklearn.decomposition import PCA\n",
    "from sklearn.preprocessing import MinMaxScaler\n",
    "from sklearn.metrics import accuracy_score\n",
    "from sklearn.model_selection import train_test_split\n",
    "from sklearn.utils import shuffle\n",
    "\n",
    "import matplotlib.pyplot as plt\n",
    "\n",
    "from tqdm.notebook import tqdm\n",
    "\n",
    "color_list = [x[\"color\"] for x in plt.rcParams[\"axes.prop_cycle\"]]\n",
    "\n",
    "from matplotlib.ticker import MaxNLocator\n",
    "\n",
    "import multiprocessing\n",
    "import os"
   ]
  },
  {
   "cell_type": "code",
   "execution_count": null,
   "id": "aaa4e549",
   "metadata": {},
   "outputs": [],
   "source": [
    "from lut import *"
   ]
  },
  {
   "cell_type": "markdown",
   "id": "1f16cf79",
   "metadata": {},
   "source": [
    "## Custom dataset"
   ]
  },
  {
   "cell_type": "code",
   "execution_count": null,
   "id": "d9b69b5b",
   "metadata": {},
   "outputs": [],
   "source": [
    "from sklearn.datasets import make_moons"
   ]
  },
  {
   "cell_type": "code",
   "execution_count": null,
   "id": "6ead5b76",
   "metadata": {},
   "outputs": [],
   "source": [
    "X_float, y_float = make_moons(n_samples=1000, shuffle=True, noise=0.05, random_state=None)"
   ]
  },
  {
   "cell_type": "code",
   "execution_count": null,
   "id": "2bc7b53d",
   "metadata": {},
   "outputs": [],
   "source": [
    "scaler = MinMaxScaler(feature_range=(0, 1))\n",
    "X_tf = scaler.fit_transform(X_float)\n",
    "X = X_tf > 0.5\n",
    "\n",
    "y = y_float.astype(bool)"
   ]
  },
  {
   "cell_type": "code",
   "execution_count": null,
   "id": "8eae1e7d",
   "metadata": {},
   "outputs": [],
   "source": [
    "lut = Lut(2, [100, 100, 100, 100])\n",
    "preds_train = lut.train(X, y)\n",
    "\n",
    "print(f\"Accuracy on training set: {accuracy_score(preds_train, y):.2f}%\")"
   ]
  },
  {
   "cell_type": "code",
   "execution_count": null,
   "id": "7585f9f7",
   "metadata": {},
   "outputs": [],
   "source": [
    "fig, axs = plt.subplots(1, 2, figsize=(8, 4))\n",
    "\n",
    "ax = axs[0]\n",
    "ax.scatter(X_tf[:, 0], X_tf[:, 1], c=y_float, cmap=\"bwr\");\n",
    "\n",
    "ax = axs[1]\n",
    "ax.scatter(X_tf[:, 0], X_tf[:, 1], c=preds_train, cmap=\"bwr\")\n",
    "\n",
    "plt.tight_layout();"
   ]
  },
  {
   "cell_type": "markdown",
   "id": "d890273e",
   "metadata": {},
   "source": [
    "## MNIST"
   ]
  },
  {
   "cell_type": "code",
   "execution_count": null,
   "id": "5119df91",
   "metadata": {},
   "outputs": [],
   "source": [
    "data = np.load(\"MNIST.npz\", allow_pickle=True)\n",
    "X_ = data[\"X\"]\n",
    "y_ = data[\"y\"]\n",
    "\n",
    "scaler = MinMaxScaler(feature_range=(0, 1))\n",
    "X_tf = scaler.fit_transform(X_)"
   ]
  },
  {
   "cell_type": "code",
   "execution_count": null,
   "id": "43cc0cf1",
   "metadata": {},
   "outputs": [],
   "source": [
    "X = (X_tf > 0.5).astype(bool)\n",
    "y = (y_ == 0) | (y_ == 1) | (y_ == 2) | (y_ == 3) | (y_ == 4)\n",
    "\n",
    "X, y = shuffle(X, y, n_samples=10_000, random_state=100)\n",
    "\n",
    "X_train, X_test, y_train, y_test, = train_test_split(\n",
    "    X, y, test_size=0.33, random_state=42, shuffle=False\n",
    ")"
   ]
  },
  {
   "cell_type": "code",
   "execution_count": null,
   "id": "e354c3a8",
   "metadata": {},
   "outputs": [],
   "source": [
    "%%time\n",
    "lut = Lut(6, [100, 100, 100])\n",
    "preds_train = lut.train(X_train, y_train)\n",
    "preds_test = lut.predict(X_test)\n",
    "\n",
    "print(f\"Accuracy on training set: {accuracy_score(preds_train, y_train):.2f}%\")\n",
    "print(f\"Accuracy on test set: {accuracy_score(preds_test, y_test):.2f}%\")"
   ]
  },
  {
   "cell_type": "markdown",
   "id": "824a0dc7",
   "metadata": {},
   "source": [
    "## Percentage random"
   ]
  },
  {
   "cell_type": "code",
   "execution_count": null,
   "id": "178a1c9b",
   "metadata": {},
   "outputs": [],
   "source": [
    "rnd_arr = []\n",
    "for i in range(2, 11):\n",
    "    lut = Lut(6, [100] * i)\n",
    "    preds_train = lut.train(X_train, y_train)\n",
    "    rnd_arr.append([x.sum() / len(x.ravel()) for x in lut.rnd_arr_])"
   ]
  },
  {
   "cell_type": "code",
   "execution_count": null,
   "id": "e07ad00e",
   "metadata": {},
   "outputs": [],
   "source": [
    "fig, ax = plt.subplots(1, 1)\n",
    "for i, rnd in enumerate(rnd_arr):\n",
    "    ax.plot(range(2, len(rnd) + 2), rnd, label=i + 2)\n",
    "    \n",
    "ax.grid()\n",
    "ax.set_xticks(range(2, 13))\n",
    "ax.set_xticklabels(range(2, 13))\n",
    "ax.set_xlabel(\"Hidden layer\")\n",
    "ax.set_ylabel(\"Percentage of lut entries random\")\n",
    "ax.legend(bbox_to_anchor=(1, 1), loc=\"upper left\", title=\"Number of\\nhidden layers\\nof respective\\nlut network\")\n",
    "ax.set_title(\"Percentage of random entries for different architectures\\nEach hidden layer has 100 luts\");\n",
    "# ax.xaxis.set_major_locator(MaxNLocator(integer=True));"
   ]
  }
 ],
 "metadata": {
  "kernelspec": {
   "display_name": "Python 3 (ipykernel)",
   "language": "python",
   "name": "python3"
  },
  "language_info": {
   "codemirror_mode": {
    "name": "ipython",
    "version": 3
   },
   "file_extension": ".py",
   "mimetype": "text/x-python",
   "name": "python",
   "nbconvert_exporter": "python",
   "pygments_lexer": "ipython3",
   "version": "3.9.7"
  }
 },
 "nbformat": 4,
 "nbformat_minor": 5
}
