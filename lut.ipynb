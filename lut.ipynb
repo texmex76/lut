{
 "cells": [
  {
   "cell_type": "code",
   "execution_count": null,
   "id": "ecfb2b52",
   "metadata": {},
   "outputs": [],
   "source": [
    "import numpy as np\n",
    "import copy\n",
    "\n",
    "from lut import *"
   ]
  },
  {
   "cell_type": "markdown",
   "id": "2133b169",
   "metadata": {},
   "source": [
    "## Toy example from paper"
   ]
  },
  {
   "cell_type": "code",
   "execution_count": null,
   "id": "6653dbca",
   "metadata": {},
   "outputs": [],
   "source": [
    "X = np.array(\n",
    "    [\n",
    "        [0, 0, 0],\n",
    "        [0, 0, 0],\n",
    "        [0, 0, 0],\n",
    "        [0, 0, 1],\n",
    "        [1, 0, 0],\n",
    "        [1, 1, 0],\n",
    "        [1, 1, 0],\n",
    "    ],\n",
    "    dtype=bool,\n",
    ")\n",
    "\n",
    "y = np.array([0, 1, 1, 1, 0, 0, 1], dtype=bool)"
   ]
  },
  {
   "cell_type": "code",
   "execution_count": null,
   "id": "dbf770d2",
   "metadata": {},
   "outputs": [],
   "source": [
    "lut_0 = Lut(2)\n",
    "lut_0.train(X, cols=[0, 1])\n",
    "lut_0"
   ]
  },
  {
   "cell_type": "code",
   "execution_count": null,
   "id": "dd8ac0e0",
   "metadata": {},
   "outputs": [],
   "source": [
    "lut_1 = Lut(2)\n",
    "lut_1.train(X, cols=[0, 2])\n",
    "lut_1"
   ]
  },
  {
   "cell_type": "code",
   "execution_count": null,
   "id": "7bed7e12",
   "metadata": {},
   "outputs": [],
   "source": [
    "new_X = training_set_from_luts([lut_0, lut_1], X)\n",
    "new_X"
   ]
  },
  {
   "cell_type": "code",
   "execution_count": null,
   "id": "48344fa4",
   "metadata": {},
   "outputs": [],
   "source": [
    "lut_3 = Lut(2)\n",
    "lut_3.train(new_X)\n",
    "lut_3"
   ]
  },
  {
   "cell_type": "code",
   "execution_count": null,
   "id": "f07448ae",
   "metadata": {},
   "outputs": [],
   "source": [
    "from sklearn import datasets\n",
    "from sklearn.decomposition import PCA\n",
    "from sklearn.preprocessing import MinMaxScaler\n",
    "from sklearn.metrics import accuracy_score\n",
    "from sklearn.model_selection import train_test_split\n",
    "\n",
    "import matplotlib.pyplot as plt\n",
    "\n",
    "from tqdm.notebook import tqdm\n",
    "\n",
    "color_list = [x[\"color\"] for x in plt.rcParams[\"axes.prop_cycle\"]]\n",
    "\n",
    "from matplotlib.ticker import MaxNLocator"
   ]
  },
  {
   "cell_type": "markdown",
   "id": "d890273e",
   "metadata": {},
   "source": [
    "## MNIST"
   ]
  },
  {
   "cell_type": "code",
   "execution_count": null,
   "id": "5119df91",
   "metadata": {},
   "outputs": [],
   "source": [
    "# from sklearn.datasets import fetch_openml\n",
    "\n",
    "# X, y = fetch_openml(\"mnist_784\", version=1, return_X_y=True, as_frame=False)\n",
    "# y = np.array([int(x) for x in y])\n",
    "# np.savez(\"MNIST.npz\", X=X, y=y)\n",
    "\n",
    "data = np.load(\"MNIST.npz\", allow_pickle=True)\n",
    "X_ = data[\"X\"]\n",
    "y_ = data[\"y\"]\n",
    "\n",
    "scaler = MinMaxScaler(feature_range=(0, 1))\n",
    "X_tf = scaler.fit_transform(X)\n",
    "\n",
    "X = (X_tf > 0.5).astype(bool)\n",
    "y = ((y_ == 0) | (y_ == 1) | (y_ == 2) | (y_ == 3) | (y_ == 4)).astype(bool)"
   ]
  },
  {
   "cell_type": "code",
   "execution_count": null,
   "id": "586f14f4",
   "metadata": {},
   "outputs": [],
   "source": []
  },
  {
   "cell_type": "code",
   "execution_count": null,
   "id": "9cb5a009",
   "metadata": {},
   "outputs": [],
   "source": [
    "N = X.shape[0]\n",
    "bits = X.shape[1]\n",
    "\n",
    "def get_bit_pattern(bits):\n",
    "    bit_pattern = np.empty((2 ** bits, bits), dtype=bool)\n",
    "    for i in range(2 ** bits):\n",
    "        bit_string = \"0\" * (bits - len(f\"{i:b}\")) + f\"{i:b}\"\n",
    "        for j, bit in enumerate(bit_string):\n",
    "            bit_pattern[i, j] = int(bit)\n",
    "    return bit_pattern\n",
    "        \n",
    "bit_pattern = get_bit_pattern(bits)\n",
    "bit_pattern_tiled = np.tile(bit_pattern, (N, 1))"
   ]
  },
  {
   "cell_type": "code",
   "execution_count": null,
   "id": "371a045f",
   "metadata": {},
   "outputs": [],
   "source": [
    "X"
   ]
  },
  {
   "cell_type": "code",
   "execution_count": null,
   "id": "c9380c0b",
   "metadata": {},
   "outputs": [],
   "source": [
    "y = np.array([0, 1, 1, 1, 0, 0, 1], dtype=bool).astype(int)\n",
    "\n",
    "y[y == 0] = -2\n",
    "y[y == 1] = 2\n",
    "y"
   ]
  },
  {
   "cell_type": "code",
   "execution_count": null,
   "id": "a9dc7e22",
   "metadata": {},
   "outputs": [],
   "source": [
    "def get_lut(X, y, bit_pattern_tiled, N, bits):\n",
    "    assert X.shape[1] == bit_pattern_tiled.shape[1]\n",
    "    pat = np.where(\n",
    "        np.all(bit_pattern_tiled == np.repeat(X, 2 ** bits, axis=0), axis=1,).reshape(\n",
    "            (N, 2 ** bits)\n",
    "        )\n",
    "        == True\n",
    "    )[1]\n",
    "    f = np.bincount(pat, weights=y, minlength=2 ** bits)\n",
    "\n",
    "    np.put(f, np.where(f == 0)[0], np.random.choice([0, 1], size=(f == 0).sum()))\n",
    "    np.put(f, np.where(f == -2)[0], 0)\n",
    "    np.put(f, np.where(f == 2)[0], 1)\n",
    "    return f.astype(bool)"
   ]
  },
  {
   "cell_type": "code",
   "execution_count": null,
   "id": "1b9c39be",
   "metadata": {},
   "outputs": [],
   "source": [
    "get_lut(X, y, bit_pattern_tiled, N, bits)"
   ]
  },
  {
   "cell_type": "markdown",
   "id": "0e2d346e",
   "metadata": {},
   "source": [
    "#### Inference"
   ]
  },
  {
   "cell_type": "code",
   "execution_count": null,
   "id": "3c52186b",
   "metadata": {},
   "outputs": [],
   "source": [
    "np.where(np.all(np.repeat(X[3][None, :], 2 ** bits, axis=0) == bit_pattern, axis=1))[0].item()"
   ]
  },
  {
   "cell_type": "code",
   "execution_count": null,
   "id": "0f82c5cd",
   "metadata": {},
   "outputs": [],
   "source": [
    "np.where(\n",
    "        np.all(bit_pattern_tiled == np.repeat(X, 2 ** bits, axis=0), axis=1,).reshape(\n",
    "            (N, 2 ** bits)\n",
    "        )\n",
    "        == True\n",
    "    )[1]"
   ]
  }
 ],
 "metadata": {
  "kernelspec": {
   "display_name": "Python 3 (ipykernel)",
   "language": "python",
   "name": "python3"
  },
  "language_info": {
   "codemirror_mode": {
    "name": "ipython",
    "version": 3
   },
   "file_extension": ".py",
   "mimetype": "text/x-python",
   "name": "python",
   "nbconvert_exporter": "python",
   "pygments_lexer": "ipython3",
   "version": "3.9.7"
  }
 },
 "nbformat": 4,
 "nbformat_minor": 5
}
