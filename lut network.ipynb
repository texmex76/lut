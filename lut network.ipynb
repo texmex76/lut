{
 "cells": [
  {
   "cell_type": "code",
   "execution_count": null,
   "id": "ecfb2b52",
   "metadata": {},
   "outputs": [],
   "source": [
    "import numpy as np\n",
    "import copy"
   ]
  },
  {
   "cell_type": "markdown",
   "id": "c7460b0f",
   "metadata": {},
   "source": [
    "We use the last column for $y$."
   ]
  },
  {
   "cell_type": "code",
   "execution_count": null,
   "id": "6653dbca",
   "metadata": {},
   "outputs": [],
   "source": [
    "X = np.array(\n",
    "    [\n",
    "        [0, 0, 0, 0],\n",
    "        [0, 0, 0, 1],\n",
    "        [0, 0, 0, 1],\n",
    "        [0, 0, 1, 1],\n",
    "        [1, 0, 0, 0],\n",
    "        [1, 1, 0, 0],\n",
    "        [1, 1, 0, 1],\n",
    "    ],\n",
    "    dtype=bool,\n",
    ")"
   ]
  },
  {
   "cell_type": "markdown",
   "id": "b03d9723",
   "metadata": {},
   "source": [
    "`cnt` stores the counts for $y^0$ and $y^1$ for the corresponding bit pattern. The first 3 dimensions of `cnt` are for referencing the bit pattern, e.g. `010`. `cnt[..., 0]` is for the count of $y^0$ and `cnt[..., 1]` is for the count of $y^1$"
   ]
  },
  {
   "cell_type": "code",
   "execution_count": null,
   "id": "e034474f",
   "metadata": {},
   "outputs": [],
   "source": [
    "def count_recursive(cnt, x):\n",
    "    \"\"\"\n",
    "    Given an array that stores counts of shape ([2] * (bits + 1)) (the last two dimensions\n",
    "    for y0 and y1, respectively), increase the count by 1 for given pattern (all but last\n",
    "    entries of x) and whether it's y0 or y1 (the last entry of x). This function is recursive.\n",
    "    \n",
    "    Parameters\n",
    "    ==========\n",
    "    cnt: np.ndarray\n",
    "        Array that stores counts for a given dataset.\n",
    "    x: list\n",
    "        Single training example as list. The last entry is for y.\n",
    "    \"\"\"\n",
    "    if len(x) > 1:\n",
    "        idx = x.pop(0)\n",
    "        count_recursive(cnt[int(idx)], x)\n",
    "    else:\n",
    "        cnt[int(x[0])] += 1"
   ]
  },
  {
   "cell_type": "code",
   "execution_count": null,
   "id": "65158a03",
   "metadata": {},
   "outputs": [],
   "source": [
    "class Lut:\n",
    "    def __init__(self, bits):\n",
    "        self.bits = bits\n",
    "        self.lut = None\n",
    "        self.rnd = None\n",
    "        self.cnt = None\n",
    "        self.cols = None\n",
    "        \n",
    "    def train(self, training_set, cols=None):\n",
    "        \"\"\"\n",
    "        Train the lut given a training set.\n",
    "        \n",
    "        Parameters\n",
    "        ==========\n",
    "        training_set: numpy.ndarray\n",
    "            Numpy array of shape (N, self.bits + 1) and dtype bool. The last column is for y.\n",
    "        cols: list, optional\n",
    "            List of indices to select columns. The lut will then be trained on a training set\n",
    "            with less columns.\n",
    "        \"\"\"\n",
    "        assert self.lut is None, \"Lut is already trained!\"\n",
    "        if cols is not None:\n",
    "            assert len(cols) == self.bits, f\"Number of selected columns has to match bit size\"\n",
    "            self.cols = cols\n",
    "            cols_ = copy.deepcopy(cols)\n",
    "            cols_.append(-1)\n",
    "            training_set_ = training_set[:, cols_]\n",
    "        else:\n",
    "            self.cols = list(range(training_set.shape[1] - 1))\n",
    "            training_set_ = training_set\n",
    "\n",
    "        cnt = np.zeros([2] * (self.bits + 1), dtype=np.uint32)\n",
    "        for x in training_set_:\n",
    "            count_recursive(cnt, list(x))\n",
    "\n",
    "        cnt_ = cnt.reshape((-1, 2))\n",
    "\n",
    "        lut = np.zeros(([2] * (training_set_.shape[1] - 1)), dtype=bool)\n",
    "        rnd = np.zeros_like(lut)\n",
    "\n",
    "        for i in range(2 ** self.bits):\n",
    "            if cnt_[i, 0] > cnt_[i, 1]:\n",
    "                lut.ravel()[i] = 0\n",
    "                rnd.ravel()[i] = 0\n",
    "            elif cnt_[i, 0] < cnt_[i, 1]:\n",
    "                lut.ravel()[i] = 1\n",
    "                rnd.ravel()[i] = 0\n",
    "            else:\n",
    "                lut.ravel()[i] = np.random.choice([0, 1])\n",
    "                rnd.ravel()[i] = 1\n",
    "\n",
    "        self.lut = lut\n",
    "        self.cnt = cnt\n",
    "        self.rnd = rnd\n",
    "            \n",
    "    def predict(self, data_set):\n",
    "        assert self.lut is not None, f\"Lut not trained yet!\"\n",
    "        preds = np.zeros((data_set.shape[0],), dtype=bool)\n",
    "        for idx, x in enumerate(data_set):\n",
    "            cols = copy.deepcopy(self.cols)\n",
    "            preds[idx] = classify_single_training_example(self, cols, x)\n",
    "        return preds\n",
    "        \n",
    "    def __repr__(self):\n",
    "        if self.lut is not None:\n",
    "            string = \"\"\n",
    "            for i in range(2 ** self.bits):\n",
    "                bit_string = \"0\" * (self.bits - len(f\"{i:b}\")) + f\"{i:b}\"\n",
    "                is_rnd = \"*\" if self.rnd.ravel()[i] else \"\"\n",
    "                string += bit_string + \"  \" + f\"{self.lut.ravel()[i]:d}\" + is_rnd + \"\\n\"\n",
    "            return string\n",
    "        else:\n",
    "            return f\"Empty lut, {self.bits} bits\"\n",
    "        \n",
    "    def __getitem__(self, idx):\n",
    "        return self.lut[idx]\n",
    "    \n",
    "    def get_cnt_table(self):\n",
    "        \"\"\"\n",
    "        Returns a string of the count table for the lut.\n",
    "        \"\"\"\n",
    "        assert self.cnt is not None, \"Lut not trained yet, no counts to return\"\n",
    "        cnt_ = self.cnt.reshape((-1, 2))\n",
    "        string = \"\"\n",
    "        for i in range(2 ** self.bits):\n",
    "            bit_string = \"0\" * (self.bits - len(f\"{i:b}\")) + f\"{i:b}\"\n",
    "            string += bit_string + \"  \" + f\"{cnt_[i, 0]} \" + f\"{cnt_[i, 1]}\" + \"\\n\"\n",
    "        return string"
   ]
  },
  {
   "cell_type": "code",
   "execution_count": null,
   "id": "dbf770d2",
   "metadata": {},
   "outputs": [],
   "source": [
    "lut_0 = Lut(2)\n",
    "lut_0.train(X, cols=[0, 1])\n",
    "lut_0"
   ]
  },
  {
   "cell_type": "code",
   "execution_count": null,
   "id": "dd8ac0e0",
   "metadata": {},
   "outputs": [],
   "source": [
    "lut_1 = Lut(2)\n",
    "lut_1.train(X, cols=[0, 2])\n",
    "lut_1"
   ]
  },
  {
   "cell_type": "code",
   "execution_count": null,
   "id": "6da1e3e1",
   "metadata": {},
   "outputs": [],
   "source": [
    "def classify_single_training_example(lut, cols, training_example):\n",
    "    \"\"\"\n",
    "    Given a single training example and list of column indices that the lut operates on,\n",
    "    classify that bit pattern.\n",
    "    \n",
    "    Parameters\n",
    "    lut: Lut\n",
    "        Lookup table object.\n",
    "    cols: list\n",
    "        List of columns that the lut operates on.\n",
    "    training_example: list\n",
    "        Single row from a training set.\n",
    "    \"\"\"\n",
    "    if len(cols) > 1:\n",
    "        idx = cols.pop(0)\n",
    "        return classify_single_training_example(lut[int(training_example[idx])], cols, training_example)\n",
    "    else:\n",
    "        return lut[int(training_example[cols[0]])]\n",
    "\n",
    "def training_set_from_luts(luts, orig_training_set):\n",
    "    \"\"\"\n",
    "    Given a list of luts trained on a subset of the original dataset, obtain a new training set\n",
    "    where the y labels are the same and the features come according to what the luts classify.\n",
    "    \n",
    "    Parameters\n",
    "    ==========\n",
    "    luts: array-like\n",
    "        List of luts.\n",
    "    orig_training_set: np.ndarray\n",
    "        Original training_set where the luts were trained on.\n",
    "    \"\"\"\n",
    "    training_set = np.zeros((orig_training_set.shape[0], len(luts) + 1), dtype=bool)\n",
    "    training_set[:, -1] = orig_training_set[:, -1]\n",
    "    for i in range(len(orig_training_set)):\n",
    "        for j in range(len(luts)):\n",
    "            cols = copy.deepcopy(luts[j].cols)\n",
    "            x = list(orig_training_set[i])\n",
    "            training_set[i, j] = classify_single_training_example(luts[j], cols, x)\n",
    "            \n",
    "    return training_set"
   ]
  },
  {
   "cell_type": "code",
   "execution_count": null,
   "id": "7bed7e12",
   "metadata": {},
   "outputs": [],
   "source": [
    "new_X = training_set_from_luts([lut_0, lut_1], X)\n",
    "new_X"
   ]
  },
  {
   "cell_type": "code",
   "execution_count": null,
   "id": "48344fa4",
   "metadata": {},
   "outputs": [],
   "source": [
    "lut_3 = Lut(2)\n",
    "lut_3.train(new_X)\n",
    "lut_3"
   ]
  },
  {
   "cell_type": "markdown",
   "id": "88854bf9",
   "metadata": {},
   "source": [
    "## Iris Dataset (differentiating class 0 from 1)"
   ]
  },
  {
   "cell_type": "code",
   "execution_count": null,
   "id": "f07448ae",
   "metadata": {},
   "outputs": [],
   "source": [
    "from sklearn import datasets\n",
    "from sklearn.decomposition import PCA\n",
    "from sklearn.preprocessing import MinMaxScaler\n",
    "from sklearn.metrics import accuracy_score\n",
    "from sklearn.model_selection import train_test_split"
   ]
  },
  {
   "cell_type": "code",
   "execution_count": null,
   "id": "dba19c2f",
   "metadata": {},
   "outputs": [],
   "source": [
    "iris = datasets.load_iris()"
   ]
  },
  {
   "cell_type": "code",
   "execution_count": null,
   "id": "00b391a8",
   "metadata": {},
   "outputs": [],
   "source": [
    "scaler = MinMaxScaler(feature_range=(0, 1))\n",
    "X_iris_scaled = scaler.fit_transform(iris.data[iris.target != 0])\n",
    "\n",
    "target = np.array(iris.target[iris.target != 0] == 2, dtype=bool)[:, None]\n",
    "X_iris = np.hstack((np.array(X_iris_scaled > 0.5, dtype=bool), target))\n",
    "X_iris.shape"
   ]
  },
  {
   "cell_type": "code",
   "execution_count": null,
   "id": "6a32e357",
   "metadata": {},
   "outputs": [],
   "source": [
    "X_train, X_test = train_test_split(X_iris, test_size=0.33, random_state=42)"
   ]
  },
  {
   "cell_type": "code",
   "execution_count": null,
   "id": "87db2be0",
   "metadata": {},
   "outputs": [],
   "source": [
    "lut = Lut(4)\n",
    "lut.train(X_train)\n",
    "lut"
   ]
  },
  {
   "cell_type": "code",
   "execution_count": null,
   "id": "6ed95baf",
   "metadata": {},
   "outputs": [],
   "source": [
    "preds = lut.predict(X_train)\n",
    "accuracy_score(preds, X_train[:, -1])"
   ]
  },
  {
   "cell_type": "code",
   "execution_count": null,
   "id": "6e71969b",
   "metadata": {},
   "outputs": [],
   "source": [
    "preds = lut.predict(X_test)\n",
    "accuracy_score(preds, X_test[:, -1])"
   ]
  },
  {
   "cell_type": "markdown",
   "id": "1f16cf79",
   "metadata": {},
   "source": [
    "## Custom dataset"
   ]
  },
  {
   "cell_type": "code",
   "execution_count": null,
   "id": "64787481",
   "metadata": {},
   "outputs": [],
   "source": [
    "import matplotlib.pyplot as plt"
   ]
  },
  {
   "cell_type": "code",
   "execution_count": null,
   "id": "d9b69b5b",
   "metadata": {},
   "outputs": [],
   "source": [
    "num_examples = 1000\n",
    "dist = 4\n",
    "ax1 = np.random.normal(loc=-dist/2, scale=1.0, size=num_examples)\n",
    "ax2 = np.random.normal(loc=-dist/2, scale=1.0, size=num_examples)\n",
    "ay = np.zeros((num_examples,), dtype=int)\n",
    "\n",
    "a = np.hstack(((ax1[:, None] > 0.0).astype(int), (ax2[:, None] > 0.0).astype(int), ay[:, None]))\n",
    "\n",
    "bx1 = np.random.normal(loc=dist/2, scale=1.0, size=num_examples)\n",
    "bx2 = np.random.normal(loc=dist/2, scale=1.0, size=num_examples)\n",
    "by = np.ones((num_examples,), dtype=int)\n",
    "\n",
    "b = np.hstack(((bx1[:, None] > 0.0).astype(int), (bx2[:, None] > 0.0).astype(int), by[:, None]))\n",
    "\n",
    "fig, ax = plt.subplots(1, 1)\n",
    "\n",
    "ax.scatter(ax1, ax2, label=\"a\")\n",
    "ax.scatter(bx1, bx2, label=\"b\", alpha=0.5)\n",
    "ax.legend();"
   ]
  },
  {
   "cell_type": "code",
   "execution_count": null,
   "id": "f8dfbf00",
   "metadata": {},
   "outputs": [],
   "source": [
    "X_ab = np.vstack((a, b))\n",
    "\n",
    "X_train, X_test = train_test_split(X_ab, test_size=0.33, random_state=42, shuffle=True)\n",
    "\n",
    "lut = Lut(2)\n",
    "lut.train(X_train)\n",
    "lut"
   ]
  },
  {
   "cell_type": "code",
   "execution_count": null,
   "id": "a668c742",
   "metadata": {},
   "outputs": [],
   "source": [
    "preds = lut.predict(X_train)\n",
    "accuracy_score(preds, X_train[:, -1])"
   ]
  },
  {
   "cell_type": "code",
   "execution_count": null,
   "id": "92ccae85",
   "metadata": {},
   "outputs": [],
   "source": [
    "preds = lut.predict(X_test)\n",
    "accuracy_score(preds, X_test[:, -1])"
   ]
  },
  {
   "cell_type": "markdown",
   "id": "472f0f21",
   "metadata": {},
   "source": [
    "Here we have the two clusters symmetrically around 0 and the criterion for binarizing the dataset ($>0$) is well chosen. If we choose the criterion badly, the performance of the luts can drop significantly."
   ]
  },
  {
   "cell_type": "markdown",
   "id": "d890273e",
   "metadata": {},
   "source": [
    "## MNIST"
   ]
  },
  {
   "cell_type": "code",
   "execution_count": null,
   "id": "5119df91",
   "metadata": {},
   "outputs": [],
   "source": [
    "# from sklearn.datasets import fetch_openml\n",
    "\n",
    "# X, y = fetch_openml(\"mnist_784\", version=1, return_X_y=True, as_frame=False)\n",
    "# y = np.array([int(x) for x in y])\n",
    "# np.savez(\"MNIST.npz\", X=X, y=y)\n",
    "\n",
    "data = np.load(\"MNIST.npz\", allow_pickle=True)\n",
    "X = data[\"X\"]\n",
    "y = data[\"y\"]"
   ]
  },
  {
   "cell_type": "code",
   "execution_count": null,
   "id": "cc077831",
   "metadata": {},
   "outputs": [],
   "source": [
    "%%time\n",
    "bits = 2\n",
    "\n",
    "pca = PCA(n_components=bits)\n",
    "X_pca = pca.fit_transform(X)\n",
    "\n",
    "# fig, ax = plt.subplots(1, 1)\n",
    "# X_back = pca.inverse_transform(X_pca)\n",
    "# ax.imshow(X_back[10].reshape((28,28)), cmap=\"gray\")\n",
    "\n",
    "scaler = MinMaxScaler(feature_range=(0, 1))\n",
    "X_tf = scaler.fit_transform(X_pca)\n",
    "\n",
    "X_mnist = np.hstack(\n",
    "    (\n",
    "        (X_tf > 0.5).astype(bool),\n",
    "        ((y == 0) | (y == 1) | (y == 2) | (y == 3) | (y == 4)).astype(bool)[:, None],\n",
    "    )\n",
    ")\n",
    "\n",
    "X_train, X_test = train_test_split(X_mnist, test_size=0.33, random_state=42, shuffle=True)\n",
    "\n",
    "lut = Lut(bits)\n",
    "lut.train(X_train)\n",
    "\n",
    "preds = lut.predict(X_train)\n",
    "print(f\"Accuracy on training set: {accuracy_score(preds, X_train[:, -1]):.2f}%\")\n",
    "\n",
    "preds = lut.predict(X_test)\n",
    "print(f\"Accuracy on test set: {accuracy_score(preds, X_test[:, -1]):.2f}%\")\n",
    "\n",
    "print(f\"{lut.rnd.sum() / (~lut.rnd).sum():.2f}% of lut entries are random\")"
   ]
  },
  {
   "cell_type": "code",
   "execution_count": null,
   "id": "72cc4477",
   "metadata": {},
   "outputs": [],
   "source": [
    "from tqdm.notebook import tqdm"
   ]
  },
  {
   "cell_type": "code",
   "execution_count": null,
   "id": "8e7971a0",
   "metadata": {},
   "outputs": [],
   "source": [
    "bit_arr = list(range(2, 21))\n",
    "train_arr = []\n",
    "test_arr = []\n",
    "rnd_arr = []\n",
    "\n",
    "for bits in tqdm(bit_arr):\n",
    "    pca = PCA(n_components=bits)\n",
    "    X_pca = pca.fit_transform(X)\n",
    "    scaler = MinMaxScaler(feature_range=(0, 1))\n",
    "    X_tf = scaler.fit_transform(X_pca)\n",
    "    X_mnist = np.hstack(\n",
    "        (\n",
    "            (X_tf > 0.5).astype(bool),\n",
    "            ((y == 0) | (y == 1) | (y == 2) | (y == 3) | (y == 4)).astype(bool)[:, None],\n",
    "        )\n",
    "    )\n",
    "    X_train, X_test = train_test_split(X_mnist, test_size=0.33, random_state=42, shuffle=True)\n",
    "    lut = Lut(bits)\n",
    "    lut.train(X_train)\n",
    "    preds = lut.predict(X_train)\n",
    "    train_arr.append(accuracy_score(preds, X_train[:, -1]))\n",
    "    preds = lut.predict(X_test)\n",
    "    test_arr.append(accuracy_score(preds, X_test[:, -1]))\n",
    "    rnd_arr.append(lut.rnd.sum() / (~lut.rnd).sum())"
   ]
  },
  {
   "cell_type": "code",
   "execution_count": null,
   "id": "bd866ce6",
   "metadata": {},
   "outputs": [],
   "source": [
    "color_list = [x[\"color\"] for x in plt.rcParams[\"axes.prop_cycle\"]]"
   ]
  },
  {
   "cell_type": "code",
   "execution_count": null,
   "id": "fcc871b1",
   "metadata": {},
   "outputs": [],
   "source": [
    "from matplotlib.ticker import MaxNLocator"
   ]
  },
  {
   "cell_type": "code",
   "execution_count": null,
   "id": "674421dc",
   "metadata": {},
   "outputs": [],
   "source": [
    "fig, ax = plt.subplots(1, 1)\n",
    "\n",
    "ax.plot(bit_arr, train_arr, label=\"Train\")\n",
    "ax.plot(bit_arr, test_arr, \"--\", label=\"Test\")\n",
    "ax.xaxis.set_major_locator(MaxNLocator(integer=True))\n",
    "ax.set_xlabel(\"Number of Bits\")\n",
    "ax.set_ylabel(\"Accuracy\")\n",
    "ax.set_title(\"Performance of a single lut on 0-4 vs. 5-9 MNIST classification\\n(PCA used to reduce dimensions to corresponding bit size)\", pad=20)\n",
    "ax.grid()\n",
    "ax.legend()\n",
    "\n",
    "ax2 = ax.twinx()\n",
    "ax2.plot(bit_arr, rnd_arr, \"-.\", label=\"Percentage of\\nlut entries\\nrandom\", c=color_list[2])\n",
    "ax2.legend(bbox_to_anchor=(1.1,1), loc=\"upper left\");"
   ]
  },
  {
   "cell_type": "code",
   "execution_count": null,
   "id": "56954278",
   "metadata": {},
   "outputs": [],
   "source": [
    "fig.savefig(\"single_lut_performance.jpg\", dpi=100, bbox_inches=\"tight\")"
   ]
  }
 ],
 "metadata": {
  "kernelspec": {
   "display_name": "Python 3 (ipykernel)",
   "language": "python",
   "name": "python3"
  },
  "language_info": {
   "codemirror_mode": {
    "name": "ipython",
    "version": 3
   },
   "file_extension": ".py",
   "mimetype": "text/x-python",
   "name": "python",
   "nbconvert_exporter": "python",
   "pygments_lexer": "ipython3",
   "version": "3.9.7"
  }
 },
 "nbformat": 4,
 "nbformat_minor": 5
}
