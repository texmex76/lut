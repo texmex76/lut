{
 "cells": [
  {
   "cell_type": "code",
   "execution_count": null,
   "id": "ecfb2b52",
   "metadata": {},
   "outputs": [],
   "source": [
    "import numpy as np\n",
    "import copy\n",
    "\n",
    "from lut import *"
   ]
  },
  {
   "cell_type": "markdown",
   "id": "6fc7eaae",
   "metadata": {},
   "source": [
    "## Toy example from paper"
   ]
  },
  {
   "cell_type": "code",
   "execution_count": null,
   "id": "6653dbca",
   "metadata": {},
   "outputs": [],
   "source": [
    "X = np.array(\n",
    "    [\n",
    "        [0, 0, 0, 0],\n",
    "        [0, 0, 0, 1],\n",
    "        [0, 0, 0, 1],\n",
    "        [0, 0, 1, 1],\n",
    "        [1, 0, 0, 0],\n",
    "        [1, 1, 0, 0],\n",
    "        [1, 1, 0, 1],\n",
    "    ],\n",
    "    dtype=bool,\n",
    ")"
   ]
  },
  {
   "cell_type": "code",
   "execution_count": null,
   "id": "dbf770d2",
   "metadata": {},
   "outputs": [],
   "source": [
    "lut_0 = Lut(2)\n",
    "lut_0.train(X, cols=[0, 1])\n",
    "lut_0"
   ]
  },
  {
   "cell_type": "code",
   "execution_count": null,
   "id": "dd8ac0e0",
   "metadata": {},
   "outputs": [],
   "source": [
    "lut_1 = Lut(2)\n",
    "lut_1.train(X, cols=[0, 2])\n",
    "lut_1"
   ]
  },
  {
   "cell_type": "code",
   "execution_count": null,
   "id": "7bed7e12",
   "metadata": {},
   "outputs": [],
   "source": [
    "new_X = training_set_from_luts([lut_0, lut_1], X)\n",
    "new_X"
   ]
  },
  {
   "cell_type": "code",
   "execution_count": null,
   "id": "48344fa4",
   "metadata": {},
   "outputs": [],
   "source": [
    "lut_3 = Lut(2)\n",
    "lut_3.train(new_X)\n",
    "lut_3"
   ]
  },
  {
   "cell_type": "code",
   "execution_count": null,
   "id": "f07448ae",
   "metadata": {},
   "outputs": [],
   "source": [
    "from sklearn import datasets\n",
    "from sklearn.decomposition import PCA\n",
    "from sklearn.preprocessing import MinMaxScaler\n",
    "from sklearn.metrics import accuracy_score\n",
    "from sklearn.model_selection import train_test_split\n",
    "\n",
    "import matplotlib.pyplot as plt\n",
    "\n",
    "from tqdm.notebook import tqdm\n",
    "\n",
    "color_list = [x[\"color\"] for x in plt.rcParams[\"axes.prop_cycle\"]]\n",
    "\n",
    "from matplotlib.ticker import MaxNLocator"
   ]
  },
  {
   "cell_type": "markdown",
   "id": "88854bf9",
   "metadata": {},
   "source": [
    "## Iris Dataset (differentiating class 0 from 1)"
   ]
  },
  {
   "cell_type": "code",
   "execution_count": null,
   "id": "dba19c2f",
   "metadata": {},
   "outputs": [],
   "source": [
    "iris = datasets.load_iris()"
   ]
  },
  {
   "cell_type": "code",
   "execution_count": null,
   "id": "00b391a8",
   "metadata": {},
   "outputs": [],
   "source": [
    "scaler = MinMaxScaler(feature_range=(0, 1))\n",
    "X_iris_scaled = scaler.fit_transform(iris.data[iris.target != 0])\n",
    "\n",
    "target = np.array(iris.target[iris.target != 0] == 2, dtype=bool)[:, None]\n",
    "X_iris = np.hstack((np.array(X_iris_scaled > 0.5, dtype=bool), target))\n",
    "X_iris.shape"
   ]
  },
  {
   "cell_type": "code",
   "execution_count": null,
   "id": "6a32e357",
   "metadata": {},
   "outputs": [],
   "source": [
    "X_train, X_test = train_test_split(X_iris, test_size=0.33, random_state=42)"
   ]
  },
  {
   "cell_type": "code",
   "execution_count": null,
   "id": "87db2be0",
   "metadata": {},
   "outputs": [],
   "source": [
    "lut = Lut(4)\n",
    "lut.train(X_train)\n",
    "lut"
   ]
  },
  {
   "cell_type": "code",
   "execution_count": null,
   "id": "6ed95baf",
   "metadata": {},
   "outputs": [],
   "source": [
    "preds = lut.predict(X_train)\n",
    "accuracy_score(preds, X_train[:, -1])"
   ]
  },
  {
   "cell_type": "code",
   "execution_count": null,
   "id": "6e71969b",
   "metadata": {},
   "outputs": [],
   "source": [
    "preds = lut.predict(X_test)\n",
    "accuracy_score(preds, X_test[:, -1])"
   ]
  },
  {
   "cell_type": "markdown",
   "id": "1f16cf79",
   "metadata": {},
   "source": [
    "## Custom dataset"
   ]
  },
  {
   "cell_type": "code",
   "execution_count": null,
   "id": "d9b69b5b",
   "metadata": {},
   "outputs": [],
   "source": [
    "num_examples = 1000\n",
    "dist = 4\n",
    "ax1 = np.random.normal(loc=-dist/2, scale=1.0, size=num_examples)\n",
    "ax2 = np.random.normal(loc=-dist/2, scale=1.0, size=num_examples)\n",
    "ay = np.zeros((num_examples,), dtype=int)\n",
    "\n",
    "a = np.hstack(((ax1[:, None] > 0.0).astype(int), (ax2[:, None] > 0.0).astype(int), ay[:, None]))\n",
    "\n",
    "bx1 = np.random.normal(loc=dist/2, scale=1.0, size=num_examples)\n",
    "bx2 = np.random.normal(loc=dist/2, scale=1.0, size=num_examples)\n",
    "by = np.ones((num_examples,), dtype=int)\n",
    "\n",
    "b = np.hstack(((bx1[:, None] > 0.0).astype(int), (bx2[:, None] > 0.0).astype(int), by[:, None]))\n",
    "\n",
    "fig, ax = plt.subplots(1, 1)\n",
    "\n",
    "ax.scatter(ax1, ax2, label=\"a\")\n",
    "ax.scatter(bx1, bx2, label=\"b\", alpha=0.5)\n",
    "ax.legend();"
   ]
  },
  {
   "cell_type": "code",
   "execution_count": null,
   "id": "f8dfbf00",
   "metadata": {},
   "outputs": [],
   "source": [
    "X_ab = np.vstack((a, b))\n",
    "\n",
    "X_train, X_test = train_test_split(X_ab, test_size=0.33, random_state=42, shuffle=True)\n",
    "\n",
    "lut = Lut(2)\n",
    "lut.train(X_train)\n",
    "lut"
   ]
  },
  {
   "cell_type": "code",
   "execution_count": null,
   "id": "a668c742",
   "metadata": {},
   "outputs": [],
   "source": [
    "preds = lut.predict(X_train)\n",
    "accuracy_score(preds, X_train[:, -1])"
   ]
  },
  {
   "cell_type": "code",
   "execution_count": null,
   "id": "92ccae85",
   "metadata": {},
   "outputs": [],
   "source": [
    "preds = lut.predict(X_test)\n",
    "accuracy_score(preds, X_test[:, -1])"
   ]
  },
  {
   "cell_type": "markdown",
   "id": "472f0f21",
   "metadata": {},
   "source": [
    "Here we have the two clusters symmetrically around 0 and the criterion for binarizing the dataset ($>0$) is well chosen. If we choose the criterion badly, the performance of the luts can drop significantly."
   ]
  },
  {
   "cell_type": "markdown",
   "id": "d890273e",
   "metadata": {},
   "source": [
    "## MNIST"
   ]
  },
  {
   "cell_type": "code",
   "execution_count": null,
   "id": "5119df91",
   "metadata": {},
   "outputs": [],
   "source": [
    "# from sklearn.datasets import fetch_openml\n",
    "\n",
    "# X, y = fetch_openml(\"mnist_784\", version=1, return_X_y=True, as_frame=False)\n",
    "# y = np.array([int(x) for x in y])\n",
    "# np.savez(\"MNIST.npz\", X=X, y=y)\n",
    "\n",
    "data = np.load(\"MNIST.npz\", allow_pickle=True)\n",
    "X = data[\"X\"]\n",
    "y = data[\"y\"]"
   ]
  },
  {
   "cell_type": "code",
   "execution_count": null,
   "id": "cc077831",
   "metadata": {},
   "outputs": [],
   "source": [
    "%%time\n",
    "bits = 9\n",
    "\n",
    "pca = PCA(n_components=bits)\n",
    "X_pca = pca.fit_transform(X)\n",
    "\n",
    "# fig, ax = plt.subplots(1, 1)\n",
    "# X_back = pca.inverse_transform(X_pca)\n",
    "# ax.imshow(X_back[10].reshape((28,28)), cmap=\"gray\")\n",
    "\n",
    "scaler = MinMaxScaler(feature_range=(0, 1))\n",
    "X_tf = scaler.fit_transform(X_pca)\n",
    "\n",
    "X_mnist = np.hstack(\n",
    "    (\n",
    "        (X_tf > 0.5).astype(bool),\n",
    "        ((y == 0) | (y == 1) | (y == 2) | (y == 3) | (y == 4)).astype(bool)[:, None],\n",
    "    )\n",
    ")\n",
    "\n",
    "X_train, X_test = train_test_split(X_mnist, test_size=0.33, random_state=42, shuffle=True)\n",
    "\n",
    "lut = Lut(bits)\n",
    "lut.train(X_train)\n",
    "\n",
    "preds = lut.predict(X_train)\n",
    "print(f\"Accuracy on training set: {accuracy_score(preds, X_train[:, -1]):.2f}%\")\n",
    "\n",
    "preds = lut.predict(X_test)\n",
    "print(f\"Accuracy on test set: {accuracy_score(preds, X_test[:, -1]):.2f}%\")\n",
    "\n",
    "print(f\"{lut.rnd.sum() / len(lut.rnd.ravel()) * 100:.2f}% of lut entries are random\")"
   ]
  },
  {
   "cell_type": "code",
   "execution_count": null,
   "id": "8e7971a0",
   "metadata": {},
   "outputs": [],
   "source": [
    "bit_arr = list(range(2, 21))\n",
    "train_arr = []\n",
    "test_arr = []\n",
    "rnd_arr = []\n",
    "\n",
    "for bits in tqdm(bit_arr):\n",
    "    pca = PCA(n_components=bits)\n",
    "    X_pca = pca.fit_transform(X)\n",
    "    scaler = MinMaxScaler(feature_range=(0, 1))\n",
    "    X_tf = scaler.fit_transform(X_pca)\n",
    "    X_mnist = np.hstack(\n",
    "        (\n",
    "            (X_tf > 0.5).astype(bool),\n",
    "#             ((y == 0) | (y == 1) | (y == 2) | (y == 3) | (y == 4)).astype(bool)[:, None],\n",
    "            np.random.choice([0, 1], size=(len(y),))[:, None]\n",
    "        )\n",
    "    )\n",
    "    X_train, X_test = train_test_split(X_mnist, test_size=0.33, random_state=42, shuffle=True)\n",
    "    lut = Lut(bits)\n",
    "    lut.train(X_train)\n",
    "    preds = lut.predict(X_train)\n",
    "    train_arr.append(accuracy_score(preds, X_train[:, -1]))\n",
    "    preds = lut.predict(X_test)\n",
    "    test_arr.append(accuracy_score(preds, X_test[:, -1]))\n",
    "    rnd_arr.append(lut.rnd.sum() / len(lut.rnd.ravel()) * 100)"
   ]
  },
  {
   "cell_type": "code",
   "execution_count": null,
   "id": "674421dc",
   "metadata": {},
   "outputs": [],
   "source": [
    "fig, ax = plt.subplots(1, 1)\n",
    "\n",
    "ax.plot(bit_arr, train_arr, label=\"Train\")\n",
    "ax.plot(bit_arr, test_arr, \"--\", label=\"Test\")\n",
    "ax.xaxis.set_major_locator(MaxNLocator(integer=True))\n",
    "ax.set_xlabel(\"Number of Bits\")\n",
    "ax.set_ylabel(\"Accuracy\")\n",
    "ax.set_title(\"Performance of a single lut on 0-4 vs. 5-9 MNIST classification\\nLabels (targets) random\\n(PCA used to reduce dimensions to corresponding bit size)\", pad=20)\n",
    "ax.grid()\n",
    "ax.legend()\n",
    "\n",
    "ax2 = ax.twinx()\n",
    "ax2.plot(bit_arr, rnd_arr, \"-.\", label=\"Percentage of\\nlut entries\\nrandom\\n(tie-breaking)\", c=color_list[2])\n",
    "ax2.legend(bbox_to_anchor=(1.1,1), loc=\"upper left\");"
   ]
  },
  {
   "cell_type": "code",
   "execution_count": null,
   "id": "56954278",
   "metadata": {},
   "outputs": [],
   "source": [
    "fig.savefig(\"single_lut_performance_random.jpg\", dpi=100, bbox_inches=\"tight\")"
   ]
  }
 ],
 "metadata": {
  "kernelspec": {
   "display_name": "Python 3 (ipykernel)",
   "language": "python",
   "name": "python3"
  },
  "language_info": {
   "codemirror_mode": {
    "name": "ipython",
    "version": 3
   },
   "file_extension": ".py",
   "mimetype": "text/x-python",
   "name": "python",
   "nbconvert_exporter": "python",
   "pygments_lexer": "ipython3",
   "version": "3.9.7"
  }
 },
 "nbformat": 4,
 "nbformat_minor": 5
}
