{
 "cells": [
  {
   "cell_type": "code",
   "execution_count": 1,
   "id": "26631f2b",
   "metadata": {},
   "outputs": [],
   "source": [
    "%load_ext autoreload\n",
    "%autoreload 2"
   ]
  },
  {
   "cell_type": "code",
   "execution_count": 2,
   "id": "ecfb2b52",
   "metadata": {},
   "outputs": [],
   "source": [
    "import numpy as np\n",
    "import copy\n",
    "\n",
    "from sklearn import datasets\n",
    "from sklearn.decomposition import PCA\n",
    "from sklearn.preprocessing import MinMaxScaler\n",
    "from sklearn.metrics import accuracy_score\n",
    "from sklearn.model_selection import train_test_split\n",
    "from sklearn.utils import shuffle\n",
    "\n",
    "import matplotlib.pyplot as plt\n",
    "\n",
    "from tqdm.notebook import tqdm\n",
    "\n",
    "color_list = [x[\"color\"] for x in plt.rcParams[\"axes.prop_cycle\"]]\n",
    "\n",
    "from matplotlib.ticker import MaxNLocator\n",
    "\n",
    "import multiprocessing\n",
    "import os"
   ]
  },
  {
   "cell_type": "code",
   "execution_count": 3,
   "id": "aaa4e549",
   "metadata": {},
   "outputs": [],
   "source": [
    "from lut import *"
   ]
  },
  {
   "cell_type": "markdown",
   "id": "1f16cf79",
   "metadata": {},
   "source": [
    "## Custom dataset"
   ]
  },
  {
   "cell_type": "code",
   "execution_count": null,
   "id": "d9b69b5b",
   "metadata": {},
   "outputs": [],
   "source": [
    "from sklearn.datasets import make_moons"
   ]
  },
  {
   "cell_type": "code",
   "execution_count": null,
   "id": "6ead5b76",
   "metadata": {},
   "outputs": [],
   "source": [
    "X_float, y_float = make_moons(n_samples=1000, shuffle=True, noise=0.05, random_state=None)"
   ]
  },
  {
   "cell_type": "code",
   "execution_count": null,
   "id": "2bc7b53d",
   "metadata": {},
   "outputs": [],
   "source": [
    "scaler = MinMaxScaler(feature_range=(0, 1))\n",
    "X_tf = scaler.fit_transform(X_float)\n",
    "X = X_tf > 0.5\n",
    "\n",
    "y = y_float.astype(bool)"
   ]
  },
  {
   "cell_type": "code",
   "execution_count": null,
   "id": "8eae1e7d",
   "metadata": {},
   "outputs": [],
   "source": [
    "lut = Lut(2, [100, 100, 100, 100])\n",
    "preds_train = lut.train(X, y)\n",
    "\n",
    "print(f\"Accuracy on training set: {accuracy_score(preds_train, y):.2f}%\")"
   ]
  },
  {
   "cell_type": "code",
   "execution_count": null,
   "id": "7585f9f7",
   "metadata": {},
   "outputs": [],
   "source": [
    "fig, axs = plt.subplots(1, 2, figsize=(8, 4))\n",
    "\n",
    "ax = axs[0]\n",
    "ax.scatter(X_tf[:, 0], X_tf[:, 1], c=y_float, cmap=\"bwr\");\n",
    "\n",
    "ax = axs[1]\n",
    "ax.scatter(X_tf[:, 0], X_tf[:, 1], c=preds_train, cmap=\"bwr\")\n",
    "\n",
    "plt.tight_layout();"
   ]
  },
  {
   "cell_type": "markdown",
   "id": "d890273e",
   "metadata": {},
   "source": [
    "## MNIST"
   ]
  },
  {
   "cell_type": "code",
   "execution_count": 6,
   "id": "5119df91",
   "metadata": {},
   "outputs": [],
   "source": [
    "data = np.load(\"data/lut/MNIST.npz\", allow_pickle=True)\n",
    "X_ = data[\"X\"]\n",
    "y_ = data[\"y\"]\n",
    "\n",
    "scaler = MinMaxScaler(feature_range=(0, 1))\n",
    "X_tf = scaler.fit_transform(X_)\n",
    "\n",
    "X = (X_tf > 0.5).astype(bool)\n",
    "y = (y_ == 0) | (y_ == 1) | (y_ == 2) | (y_ == 3) | (y_ == 4)\n",
    "\n",
    "X, y = shuffle(X, y, n_samples=10_000, random_state=100)\n",
    "\n",
    "X_train, X_test, y_train, y_test, = train_test_split(\n",
    "    X, y, test_size=0.2, random_state=42, shuffle=False\n",
    ")"
   ]
  },
  {
   "cell_type": "code",
   "execution_count": 78,
   "id": "e354c3a8",
   "metadata": {},
   "outputs": [
    {
     "name": "stderr",
     "output_type": "stream",
     "text": [
      "100%|███████████████████████████████████████████████████████████████████████████████████████████████████████████████████████████████████████████████████████████████████████| 5/5 [08:25<00:00, 101.05s/it]\n"
     ]
    },
    {
     "name": "stdout",
     "output_type": "stream",
     "text": [
      "Accuracy on training set: 0.89%\n",
      "Accuracy on test set: 0.87%\n",
      "CPU times: user 24.6 s, sys: 34.4 s, total: 59 s\n",
      "Wall time: 9min 42s\n"
     ]
    }
   ],
   "source": [
    "%%time\n",
    "lut = Lut(8, [1024] * 5)\n",
    "preds_train = lut.train(X_train, y_train)\n",
    "preds_test = lut.predict(X_test)\n",
    "\n",
    "print(f\"Accuracy on training set: {accuracy_score(preds_train, y_train):.2f}%\")\n",
    "print(f\"Accuracy on test set: {accuracy_score(preds_test, y_test):.2f}%\")"
   ]
  },
  {
   "cell_type": "code",
   "execution_count": 79,
   "id": "88b81f0d",
   "metadata": {},
   "outputs": [
    {
     "name": "stderr",
     "output_type": "stream",
     "text": [
      "100%|███████████████████████████████████████████████████████████████████████████████████████████████████████████████████████████████████████████████████████████████████████| 5/5 [08:36<00:00, 103.40s/it]\n"
     ]
    }
   ],
   "source": [
    "acc = lut.get_accuracies_per_layer(X_train, y_train)"
   ]
  },
  {
   "cell_type": "code",
   "execution_count": 80,
   "id": "9058f3b1",
   "metadata": {},
   "outputs": [
    {
     "name": "stdout",
     "output_type": "stream",
     "text": [
      "1  0.001   0.6028  0.0412\n",
      "2  0.001   0.7398  0.0193\n",
      "3  0.001   0.8275  0.0067\n",
      "4  0.001   0.8633  0.0031\n",
      "5  0.001   0.8781  0.0013\n",
      "6  0.001   0.8871  0.0000\n"
     ]
    }
   ],
   "source": [
    "for i in range(len(acc)):\n",
    "    print(f\"{i + 1}  {0.001}   {np.mean(acc[i]):.4f}  {np.std(acc[i]):.4f}\")"
   ]
  },
  {
   "cell_type": "markdown",
   "id": "d6473ca4",
   "metadata": {},
   "source": [
    "## Column selection functions"
   ]
  },
  {
   "cell_type": "code",
   "execution_count": 7,
   "id": "212d79d7",
   "metadata": {},
   "outputs": [
    {
     "name": "stderr",
     "output_type": "stream",
     "text": [
      "100%|████████████████████████████████████████████████████████████████████████████████████████████████████████████████████████████████████████████████████████████████████████| 5/5 [00:06<00:00,  1.30s/it]\n"
     ]
    },
    {
     "name": "stdout",
     "output_type": "stream",
     "text": [
      "Accuracy on training set: 0.93%\n",
      "Accuracy on test set: 0.84%\n",
      "CPU times: user 2.57 s, sys: 2.31 s, total: 4.89 s\n",
      "Wall time: 8.25 s\n"
     ]
    }
   ],
   "source": [
    "%%time\n",
    "lut = Lut(8, [100] * 5)\n",
    "preds_train = lut.train(X_train, y_train)\n",
    "preds_test = lut.predict(X_test)\n",
    "\n",
    "print(f\"Accuracy on training set: {accuracy_score(preds_train, y_train):.2f}%\")\n",
    "print(f\"Accuracy on test set: {accuracy_score(preds_test, y_test):.2f}%\")"
   ]
  },
  {
   "cell_type": "code",
   "execution_count": 10,
   "id": "0349df48",
   "metadata": {},
   "outputs": [
    {
     "data": {
      "text/plain": [
       "(100, 8)"
      ]
     },
     "execution_count": 10,
     "metadata": {},
     "output_type": "execute_result"
    }
   ],
   "source": [
    "lut.cols_arr_[0].shape"
   ]
  },
  {
   "cell_type": "code",
   "execution_count": 22,
   "id": "5c755122",
   "metadata": {},
   "outputs": [
    {
     "data": {
      "text/plain": [
       "98.0"
      ]
     },
     "execution_count": 22,
     "metadata": {},
     "output_type": "execute_result"
    }
   ],
   "source": [
    "784 / 8"
   ]
  },
  {
   "cell_type": "code",
   "execution_count": 23,
   "id": "71f8f918",
   "metadata": {},
   "outputs": [
    {
     "data": {
      "text/plain": [
       "14.0"
      ]
     },
     "execution_count": 23,
     "metadata": {},
     "output_type": "execute_result"
    }
   ],
   "source": [
    "98 / 7"
   ]
  },
  {
   "cell_type": "code",
   "execution_count": 24,
   "id": "980b42cb",
   "metadata": {},
   "outputs": [
    {
     "data": {
      "text/plain": [
       "2.0"
      ]
     },
     "execution_count": 24,
     "metadata": {},
     "output_type": "execute_result"
    }
   ],
   "source": [
    "14 / 7"
   ]
  },
  {
   "cell_type": "code",
   "execution_count": 25,
   "id": "778c7b30",
   "metadata": {},
   "outputs": [
    {
     "data": {
      "text/plain": [
       "1.0"
      ]
     },
     "execution_count": 25,
     "metadata": {},
     "output_type": "execute_result"
    }
   ],
   "source": [
    "2 / 2"
   ]
  },
  {
   "cell_type": "code",
   "execution_count": null,
   "id": "068744b3",
   "metadata": {},
   "outputs": [],
   "source": [
    "num_luts_prev = 100\n",
    "num_luts_current = 100\n",
    "bits = 4\n",
    "\n",
    "np.random.choice(range(1024), size=rows * cols)"
   ]
  }
 ],
 "metadata": {
  "kernelspec": {
   "display_name": "Python 3 (ipykernel)",
   "language": "python",
   "name": "python3"
  },
  "language_info": {
   "codemirror_mode": {
    "name": "ipython",
    "version": 3
   },
   "file_extension": ".py",
   "mimetype": "text/x-python",
   "name": "python",
   "nbconvert_exporter": "python",
   "pygments_lexer": "ipython3",
   "version": "3.9.7"
  }
 },
 "nbformat": 4,
 "nbformat_minor": 5
}
