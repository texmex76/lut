{
 "cells": [
  {
   "cell_type": "markdown",
   "id": "738ec560",
   "metadata": {},
   "source": [
    "These are experiments that I did for my thesis."
   ]
  },
  {
   "cell_type": "code",
   "execution_count": 1,
   "id": "26631f2b",
   "metadata": {},
   "outputs": [],
   "source": [
    "%load_ext autoreload\n",
    "%autoreload 2"
   ]
  },
  {
   "cell_type": "code",
   "execution_count": 2,
   "id": "ecfb2b52",
   "metadata": {},
   "outputs": [],
   "source": [
    "import numpy as np\n",
    "import copy\n",
    "\n",
    "from sklearn import datasets\n",
    "from sklearn.decomposition import PCA\n",
    "from sklearn.preprocessing import MinMaxScaler\n",
    "from sklearn.metrics import accuracy_score\n",
    "from sklearn.model_selection import train_test_split\n",
    "from sklearn.utils import shuffle\n",
    "\n",
    "import matplotlib.pyplot as plt\n",
    "\n",
    "from tqdm.notebook import tqdm\n",
    "\n",
    "color_list = [x[\"color\"] for x in plt.rcParams[\"axes.prop_cycle\"]]\n",
    "\n",
    "from matplotlib.ticker import MaxNLocator\n",
    "\n",
    "import multiprocessing\n",
    "import os\n",
    "import pickle\n",
    "import scipy"
   ]
  },
  {
   "cell_type": "code",
   "execution_count": 3,
   "id": "aaa4e549",
   "metadata": {},
   "outputs": [],
   "source": [
    "from lut import *"
   ]
  },
  {
   "cell_type": "code",
   "execution_count": 16,
   "id": "be875b30",
   "metadata": {},
   "outputs": [],
   "source": [
    "def tlga(hidden_layers, num_bits):\n",
    "    \"\"\"\n",
    "    Train LUT get accuracies.\n",
    "    \"\"\"\n",
    "    lut = Lut(bits=[num_bits] * (len(hidden_layers) + 1), hidden_layers=hidden_layers, verbose=False)\n",
    "    preds_train = lut.train(X_train, y_train)\n",
    "    preds_test = lut.predict(X_test)\n",
    "    acc_train = accuracy_score(preds_train, y_train)\n",
    "    acc_test = accuracy_score(preds_test, y_test)\n",
    "    print(f\"{num_bits} Accuracy on training set: {acc_train:.2f}\")\n",
    "    print(f\"{num_bits} Accuracy on test set: {acc_test:.2f}\")\n",
    "    return acc_train, acc_test"
   ]
  },
  {
   "cell_type": "markdown",
   "id": "d890273e",
   "metadata": {},
   "source": [
    "# Loading the dataset and pre-processing"
   ]
  },
  {
   "cell_type": "code",
   "execution_count": 8,
   "id": "80d34c1d",
   "metadata": {},
   "outputs": [],
   "source": [
    "from mnist import load_mnist, load_mnist_binary\n",
    "\n",
    "X_train, X_test, y_train, y_test = load_mnist_binary()"
   ]
  },
  {
   "cell_type": "markdown",
   "id": "cd42e580",
   "metadata": {},
   "source": [
    "# Smaller LUT"
   ]
  },
  {
   "cell_type": "code",
   "execution_count": 5,
   "id": "dc6b0ade",
   "metadata": {},
   "outputs": [
    {
     "name": "stderr",
     "output_type": "stream",
     "text": [
      "100%|█████████████████████████████████████████████████████████████████████████████████████████████████████████████████████████████████████| 5/5 [02:56<00:00, 35.36s/it]\n"
     ]
    },
    {
     "name": "stdout",
     "output_type": "stream",
     "text": [
      "Accuracy on training set: 0.88\n",
      "Accuracy on test set: 0.84\n",
      "CPU times: user 35.7 s, sys: 1min 30s, total: 2min 5s\n",
      "Wall time: 3min 28s\n"
     ]
    }
   ],
   "source": [
    "%%time\n",
    "hidden_layers = [32] * 5\n",
    "lut = Lut(bits=[10] * (len(hidden_layers) + 1), hidden_layers=hidden_layers, verbose=True)\n",
    "\n",
    "preds_train = lut.train(X_train, y_train)\n",
    "preds_test = lut.predict(X_test)\n",
    "print(f\"Accuracy on training set: {accuracy_score(preds_train, y_train):.2f}\")\n",
    "print(f\"Accuracy on test set: {accuracy_score(preds_test, y_test):.2f}\")"
   ]
  },
  {
   "cell_type": "code",
   "execution_count": 8,
   "id": "c7ca4d7c",
   "metadata": {},
   "outputs": [
    {
     "name": "stderr",
     "output_type": "stream",
     "text": [
      "100%|███████████████████████████████████████████████████████████████████████████████████████████████████████████████████████████████████████████████████████████████████████| 5/5 [11:25<00:00, 137.18s/it]\n"
     ]
    },
    {
     "name": "stdout",
     "output_type": "stream",
     "text": [
      "Accuracy on training set: 0.93\n",
      "Accuracy on test set: 0.88\n",
      "CPU times: user 1min 12s, sys: 2min 36s, total: 3min 48s\n",
      "Wall time: 12min 54s\n"
     ]
    }
   ],
   "source": [
    "%%time\n",
    "hidden_layers = [256] * 5\n",
    "lut = Lut(bits=[10] * (len(hidden_layers) + 1), hidden_layers=hidden_layers, verbose=True)\n",
    "\n",
    "preds_train = lut.train(X_train, y_train)\n",
    "preds_test = lut.predict(X_test)\n",
    "print(f\"Accuracy on training set: {accuracy_score(preds_train, y_train):.2f}\")\n",
    "print(f\"Accuracy on test set: {accuracy_score(preds_test, y_test):.2f}\")"
   ]
  },
  {
   "cell_type": "code",
   "execution_count": 7,
   "id": "363f0812",
   "metadata": {},
   "outputs": [
    {
     "name": "stderr",
     "output_type": "stream",
     "text": [
      "100%|████████████████████████████████████████████████████████████████████████████████████████████████████████████████████████████████████████████████████████████████████████| 5/5 [01:58<00:00, 23.71s/it]\n"
     ]
    },
    {
     "name": "stdout",
     "output_type": "stream",
     "text": [
      "Accuracy on training set: 0.88\n",
      "Accuracy on test set: 0.87\n",
      "CPU times: user 17.4 s, sys: 22.9 s, total: 40.3 s\n",
      "Wall time: 2min 17s\n"
     ]
    }
   ],
   "source": [
    "%%time\n",
    "hidden_layers = [256] * 5\n",
    "lut = Lut(bits=[8] * (len(hidden_layers) + 1), hidden_layers=hidden_layers, verbose=True)\n",
    "\n",
    "preds_train = lut.train(X_train, y_train)\n",
    "preds_test = lut.predict(X_test)\n",
    "print(f\"Accuracy on training set: {accuracy_score(preds_train, y_train):.2f}\")\n",
    "print(f\"Accuracy on test set: {accuracy_score(preds_test, y_test):.2f}\")"
   ]
  },
  {
   "cell_type": "markdown",
   "id": "bde598ea",
   "metadata": {},
   "source": [
    "# Different threshold"
   ]
  },
  {
   "cell_type": "code",
   "execution_count": 9,
   "id": "5158fdbe",
   "metadata": {},
   "outputs": [],
   "source": [
    "X_train_, X_test_, y_train_, y_test_ = load_mnist_binary(thresh=0.1)"
   ]
  },
  {
   "cell_type": "code",
   "execution_count": 10,
   "id": "15736ad2",
   "metadata": {},
   "outputs": [
    {
     "name": "stderr",
     "output_type": "stream",
     "text": [
      "100%|█████████████████████████████████████████████████████████████████████████████████████████████████████████████████████████████████████| 5/5 [07:16<00:00, 87.27s/it]\n"
     ]
    },
    {
     "name": "stdout",
     "output_type": "stream",
     "text": [
      "Accuracy on training set: 0.90\n",
      "Accuracy on test set: 0.89\n",
      "CPU times: user 22.8 s, sys: 29.8 s, total: 52.5 s\n",
      "Wall time: 8min 29s\n"
     ]
    }
   ],
   "source": [
    "%%time\n",
    "hidden_layers = [1024] * 5\n",
    "lut = Lut(bits=[8] * (len(hidden_layers) + 1), hidden_layers=hidden_layers, verbose=True)\n",
    "\n",
    "preds_train = lut.train(X_train_, y_train_)\n",
    "preds_test = lut.predict(X_test_)\n",
    "print(f\"Accuracy on training set: {accuracy_score(preds_train, y_train_):.2f}\")\n",
    "print(f\"Accuracy on test set: {accuracy_score(preds_test, y_test_):.2f}\")"
   ]
  },
  {
   "cell_type": "markdown",
   "id": "073a65a3",
   "metadata": {},
   "source": [
    "# Experiment 1\n",
    "\n",
    "**Setup:**\n",
    "- Network with 5 hidden layers of 1024 luts and 1 lut in the output layer\n",
    "- Each lut takes 8 inputs\n",
    "\n",
    "**Result:**\n",
    "- Training accuracy: 0.89\n",
    "- Accuracy on test set: 0.87\n",
    "- Results significantly above 0.5 which would be random"
   ]
  },
  {
   "cell_type": "code",
   "execution_count": 5,
   "id": "01de3052",
   "metadata": {},
   "outputs": [
    {
     "name": "stderr",
     "output_type": "stream",
     "text": [
      "100%|█████████████████████████████████████████████████████████████████████████████████████████████████████████████████████████████████████| 5/5 [07:44<00:00, 92.91s/it]\n"
     ]
    },
    {
     "name": "stdout",
     "output_type": "stream",
     "text": [
      "Accuracy on training set: 0.89\n",
      "Accuracy on test set: 0.87\n",
      "CPU times: user 26.7 s, sys: 31.5 s, total: 58.2 s\n",
      "Wall time: 9min 30s\n"
     ]
    }
   ],
   "source": [
    "%%time\n",
    "hidden_layers = [1024] * 5\n",
    "lut = Lut(bits=[8] * (len(hidden_layers) + 1), hidden_layers=hidden_layers, verbose=True)\n",
    "\n",
    "preds_train = lut.train(X_train, y_train)\n",
    "preds_test = lut.predict(X_test)\n",
    "print(f\"Accuracy on training set: {accuracy_score(preds_train, y_train):.2f}\")\n",
    "print(f\"Accuracy on test set: {accuracy_score(preds_test, y_test):.2f}\")"
   ]
  },
  {
   "cell_type": "code",
   "execution_count": 7,
   "id": "aa6b0b6d",
   "metadata": {},
   "outputs": [],
   "source": [
    "# import pickle\n",
    "\n",
    "# with open(r\"data/lut/lut_experiment_1.pkl\", \"wb\") as f:\n",
    "#     pickle.dump(lut, f)"
   ]
  },
  {
   "cell_type": "code",
   "execution_count": 11,
   "id": "e420e491",
   "metadata": {},
   "outputs": [
    {
     "name": "stderr",
     "output_type": "stream",
     "text": [
      "100%|█████████████████████████████████████████████████████████████████████████████████████████████████████████████████████████████████████| 5/5 [07:34<00:00, 90.88s/it]\n"
     ]
    }
   ],
   "source": [
    "acc = lut.get_accuracies_per_layer(X_train, y_train)"
   ]
  },
  {
   "cell_type": "code",
   "execution_count": 13,
   "id": "9e94ce3a",
   "metadata": {},
   "outputs": [],
   "source": [
    "# with open(r\"data/lut/acc_experiment_1.pkl\", \"wb\") as f:\n",
    "#     pickle.dump(acc, f)"
   ]
  },
  {
   "cell_type": "code",
   "execution_count": 47,
   "id": "138e2504",
   "metadata": {},
   "outputs": [],
   "source": [
    "with open(r\"data/lut/acc_experiment_1.pkl\", \"rb\") as f:\n",
    "    acc = pickle.load(f)"
   ]
  },
  {
   "cell_type": "code",
   "execution_count": null,
   "id": "9354cdc2",
   "metadata": {},
   "outputs": [],
   "source": [
    "acc_ = np.vstack((np.array(acc[:-1]), np.repeat(acc[-1], repeats=1024)[None, :]))\n",
    "acc_mean = acc_.mean(1)\n",
    "acc_std = acc_.std(1)"
   ]
  },
  {
   "cell_type": "code",
   "execution_count": 52,
   "id": "42aa9919",
   "metadata": {},
   "outputs": [
    {
     "data": {
      "image/png": "[encoded data removed]",
      "text/plain": [
       "<Figure size 432x288 with 1 Axes>"
      ]
     },
     "metadata": {
      "needs_background": "light"
     },
     "output_type": "display_data"
    }
   ],
   "source": [
    "fig, ax = plt.subplots(1, 1)\n",
    "\n",
    "ax.errorbar(range(1, 7), acc_mean, yerr=acc_std, capsize=4, fmt=\"o\")\n",
    "ax.set_xlabel(\"Hidden layer\")\n",
    "ax.set_ylabel(\"Training accuracy\")\n",
    "ax.grid();"
   ]
  },
  {
   "cell_type": "code",
   "execution_count": 54,
   "id": "f884a0f4",
   "metadata": {},
   "outputs": [
    {
     "name": "stdout",
     "output_type": "stream",
     "text": [
      "1  0.001   0.6025  0.0399\n",
      "2  0.001   0.7403  0.0186\n",
      "3  0.001   0.8278  0.0069\n",
      "4  0.001   0.8636  0.0035\n",
      "5  0.001   0.8789  0.0016\n",
      "6  0.001   0.8900  0.0000\n"
     ]
    }
   ],
   "source": [
    "# For latex tikz plot\n",
    "for i in range(6):\n",
    "    print(f\"{i + 1}  0.001   {acc_mean[i]:.4f}  {acc_std[i]:.4f}\")"
   ]
  },
  {
   "cell_type": "markdown",
   "id": "1ffe3b05",
   "metadata": {},
   "source": [
    "# Majority Vote"
   ]
  },
  {
   "cell_type": "code",
   "execution_count": null,
   "id": "4003e8da",
   "metadata": {},
   "outputs": [
    {
     "name": "stdout",
     "output_type": "stream",
     "text": [
      "Bit-size: 2\n",
      "Train: 0.66 / 0.77\n",
      "Test: 0.67 / 0.78\n",
      "\n",
      "Bit-size: 3\n",
      "Train: 0.77 / 0.79\n",
      "Test: 0.77 / 0.80\n",
      "\n",
      "Bit-size: 4\n",
      "Train: 0.81 / 0.81\n",
      "Test: 0.82 / 0.82\n",
      "\n",
      "Bit-size: 5\n",
      "Train: 0.83 / 0.83\n",
      "Test: 0.83 / 0.83\n",
      "\n",
      "Bit-size: 6\n",
      "Train: 0.85 / 0.85\n",
      "Test: 0.85 / 0.85\n",
      "\n",
      "Bit-size: 7\n",
      "Train: 0.87 / 0.87\n",
      "Test: 0.86 / 0.86\n",
      "\n",
      "Bit-size: 8\n",
      "Train: 0.89 / 0.88\n",
      "Test: 0.87 / 0.87\n",
      "\n",
      "Bit-size: 9\n",
      "Train: 0.91 / 0.91\n",
      "Test: 0.88 / 0.88\n",
      "\n"
     ]
    }
   ],
   "source": [
    "%%time\n",
    "\n",
    "acc_train = []\n",
    "acc_train_major = []\n",
    "acc_test = []\n",
    "acc_test_major = []\n",
    "\n",
    "for bt in range(2, 11):\n",
    "    hidden_layers = [1024] * 5\n",
    "    lut = Lut(bits=[bt] * (len(hidden_layers) + 1), hidden_layers=hidden_layers)\n",
    "\n",
    "    preds_train = lut.train(X_train, y_train)\n",
    "    preds_train_major = lut.predict(X_train, majority_vote=True)\n",
    "    preds_test = lut.predict(X_test)\n",
    "    preds_test_major = lut.predict(X_test, majority_vote=True)\n",
    "    \n",
    "    at = accuracy_score(preds_train, y_train)\n",
    "    atm = accuracy_score(preds_train_major, y_train)\n",
    "    atst = accuracy_score(preds_test, y_test)\n",
    "    atstm = accuracy_score(preds_test_major, y_test)\n",
    "    \n",
    "    acc_train.append(at)\n",
    "    acc_train_major.append(atm)\n",
    "    acc_test.append(atst)\n",
    "    acc_test_major.append(atstm)\n",
    "    \n",
    "    print(f\"Bit-size: {bt}\")\n",
    "    print(f\"Train: {at:.2f} / {atm:.2f}\")\n",
    "    print(f\"Test: {atst:.2f} / {atstm:.2f}\")\n",
    "    print()"
   ]
  },
  {
   "cell_type": "code",
   "execution_count": 5,
   "id": "64b37fb6",
   "metadata": {},
   "outputs": [],
   "source": [
    "res = \"\"\"Bit-size: 2\n",
    "Train: 0.66 / 0.77\n",
    "Test: 0.67 / 0.78\n",
    "\n",
    "Bit-size: 3\n",
    "Train: 0.77 / 0.79\n",
    "Test: 0.77 / 0.80\n",
    "\n",
    "Bit-size: 4\n",
    "Train: 0.81 / 0.81\n",
    "Test: 0.82 / 0.82\n",
    "\n",
    "Bit-size: 5\n",
    "Train: 0.83 / 0.83\n",
    "Test: 0.83 / 0.83\n",
    "\n",
    "Bit-size: 6\n",
    "Train: 0.85 / 0.85\n",
    "Test: 0.85 / 0.85\n",
    "\n",
    "Bit-size: 7\n",
    "Train: 0.87 / 0.87\n",
    "Test: 0.86 / 0.86\n",
    "\n",
    "Bit-size: 8\n",
    "Train: 0.89 / 0.88\n",
    "Test: 0.87 / 0.87\n",
    "\n",
    "Bit-size: 9\n",
    "Train: 0.91 / 0.91\n",
    "Test: 0.88 / 0.88\"\"\""
   ]
  },
  {
   "cell_type": "code",
   "execution_count": 18,
   "id": "e768bd9d",
   "metadata": {},
   "outputs": [],
   "source": [
    "train_no_major = [float(x) for x in re.findall(\"Train: (.+?) \", res)]\n",
    "train_major = [float(x) for x in re.findall(\"Train.+?/ (.+?)\\n\", res)]\n",
    "\n",
    "test_no_major = [float(x) for x in re.findall(\"Test: (.+?) \", res)]\n",
    "test_major = [float(x) for x in re.findall(\"Test.+?/ (.+?)\\n\", res)]"
   ]
  },
  {
   "cell_type": "code",
   "execution_count": 24,
   "id": "bb52f21e",
   "metadata": {},
   "outputs": [
    {
     "data": {
      "text/plain": [
       "[<matplotlib.lines.Line2D at 0x7f797e7ad6d0>]"
      ]
     },
     "execution_count": 24,
     "metadata": {},
     "output_type": "execute_result"
    },
    {
     "data": {
      "image/png": "[encoded data removed]",
      "text/plain": [
       "<Figure size 432x288 with 1 Axes>"
      ]
     },
     "metadata": {
      "needs_background": "light"
     },
     "output_type": "display_data"
    }
   ],
   "source": [
    "fig, ax = plt.subplots(1, 1)\n",
    "\n",
    "ax.plot(train_no_major)\n",
    "ax.plot(train_major)\n",
    "\n",
    "ax.plot(test_no_major, ls=\"--\")\n",
    "ax.plot(test_major, ls=\"--\")"
   ]
  },
  {
   "cell_type": "code",
   "execution_count": 5,
   "id": "52e05d7f",
   "metadata": {},
   "outputs": [],
   "source": [
    "bit_arr = list(range(2, 11))"
   ]
  },
  {
   "cell_type": "code",
   "execution_count": 6,
   "id": "ae073391",
   "metadata": {},
   "outputs": [
    {
     "name": "stderr",
     "output_type": "stream",
     "text": [
      "100%|█████████████████████████████████████████████| 5/5 [00:13<00:00,  2.63s/it]\n"
     ]
    },
    {
     "name": "stdout",
     "output_type": "stream",
     "text": [
      "Bits: 2 Accuracy on training set: 0.64\n",
      "Bits: 2 Accuracy on test set: 0.65\n"
     ]
    },
    {
     "name": "stderr",
     "output_type": "stream",
     "text": [
      "100%|█████████████████████████████████████████████| 5/5 [00:17<00:00,  3.52s/it]\n"
     ]
    },
    {
     "name": "stdout",
     "output_type": "stream",
     "text": [
      "Bits: 3 Accuracy on training set: 0.76\n",
      "Bits: 3 Accuracy on test set: 0.76\n"
     ]
    },
    {
     "name": "stderr",
     "output_type": "stream",
     "text": [
      "100%|█████████████████████████████████████████████| 5/5 [00:28<00:00,  5.76s/it]\n"
     ]
    },
    {
     "name": "stdout",
     "output_type": "stream",
     "text": [
      "Bits: 4 Accuracy on training set: 0.80\n",
      "Bits: 4 Accuracy on test set: 0.80\n"
     ]
    },
    {
     "name": "stderr",
     "output_type": "stream",
     "text": [
      "100%|█████████████████████████████████████████████| 5/5 [00:51<00:00, 10.32s/it]\n"
     ]
    },
    {
     "name": "stdout",
     "output_type": "stream",
     "text": [
      "Bits: 5 Accuracy on training set: 0.83\n",
      "Bits: 5 Accuracy on test set: 0.83\n"
     ]
    },
    {
     "name": "stderr",
     "output_type": "stream",
     "text": [
      "100%|█████████████████████████████████████████████| 5/5 [01:40<00:00, 20.17s/it]\n"
     ]
    },
    {
     "name": "stdout",
     "output_type": "stream",
     "text": [
      "Bits: 6 Accuracy on training set: 0.85\n",
      "Bits: 6 Accuracy on test set: 0.84\n"
     ]
    },
    {
     "name": "stderr",
     "output_type": "stream",
     "text": [
      "100%|█████████████████████████████████████████████| 5/5 [03:39<00:00, 43.95s/it]\n"
     ]
    },
    {
     "name": "stdout",
     "output_type": "stream",
     "text": [
      "Bits: 7 Accuracy on training set: 0.87\n",
      "Bits: 7 Accuracy on test set: 0.86\n"
     ]
    },
    {
     "name": "stderr",
     "output_type": "stream",
     "text": [
      "100%|█████████████████████████████████████████████| 5/5 [07:45<00:00, 93.16s/it]\n"
     ]
    },
    {
     "name": "stdout",
     "output_type": "stream",
     "text": [
      "Bits: 8 Accuracy on training set: 0.89\n",
      "Bits: 8 Accuracy on test set: 0.87\n"
     ]
    },
    {
     "name": "stderr",
     "output_type": "stream",
     "text": [
      "100%|████████████████████████████████████████████| 5/5 [16:22<00:00, 196.58s/it]\n"
     ]
    },
    {
     "name": "stdout",
     "output_type": "stream",
     "text": [
      "Bits: 9 Accuracy on training set: 0.91\n",
      "Bits: 9 Accuracy on test set: 0.88\n"
     ]
    },
    {
     "name": "stderr",
     "output_type": "stream",
     "text": [
      "100%|████████████████████████████████████████████| 5/5 [34:02<00:00, 408.54s/it]\n"
     ]
    },
    {
     "name": "stdout",
     "output_type": "stream",
     "text": [
      "Bits: 10 Accuracy on training set: 0.94\n",
      "Bits: 10 Accuracy on test set: 0.88\n",
      "CPU times: user 3min 42s, sys: 4min 53s, total: 8min 35s\n",
      "Wall time: 1h 20min 3s\n"
     ]
    }
   ],
   "source": [
    "%%time\n",
    "\n",
    "train_no_major = []\n",
    "test_no_major = []\n",
    "\n",
    "for bit in bit_arr:\n",
    "    hidden_layers = [1024] * 5\n",
    "    lut = Lut(bits=[bit] * (len(hidden_layers) + 1), hidden_layers=hidden_layers, verbose=True)\n",
    "    preds_train = lut.train(X_train, y_train)\n",
    "    preds_test = lut.predict(X_test)\n",
    "\n",
    "    train_acc = accuracy_score(preds_train, y_train)\n",
    "    test_acc = accuracy_score(preds_test, y_test)\n",
    "    train_no_major.append(train_acc)\n",
    "    test_no_major.append(test_acc)\n",
    "    print(f\"Bits: {bit} Accuracy on training set: {train_acc:.2f}\")\n",
    "    print(f\"Bits: {bit} Accuracy on test set: {test_acc:.2f}\")"
   ]
  },
  {
   "cell_type": "code",
   "execution_count": 7,
   "id": "ca4ff255",
   "metadata": {},
   "outputs": [
    {
     "data": {
      "text/plain": [
       "([0.642625,\n",
       "  0.7604464285714285,\n",
       "  0.800125,\n",
       "  0.8309285714285715,\n",
       "  0.8476071428571429,\n",
       "  0.87025,\n",
       "  0.8883928571428571,\n",
       "  0.9139642857142857,\n",
       "  0.9412678571428571],\n",
       " [0.6516428571428572,\n",
       "  0.7632142857142857,\n",
       "  0.8013571428571429,\n",
       "  0.8318571428571429,\n",
       "  0.8442857142857143,\n",
       "  0.8598571428571429,\n",
       "  0.8702142857142857,\n",
       "  0.8787142857142857,\n",
       "  0.8841428571428571])"
      ]
     },
     "execution_count": 7,
     "metadata": {},
     "output_type": "execute_result"
    }
   ],
   "source": [
    "train_no_major, test_no_major"
   ]
  },
  {
   "cell_type": "code",
   "execution_count": 10,
   "id": "a962c32f",
   "metadata": {},
   "outputs": [
    {
     "name": "stderr",
     "output_type": "stream",
     "text": [
      "100%|█████████████████████████████████████████████| 5/5 [00:11<00:00,  2.30s/it]\n"
     ]
    },
    {
     "name": "stdout",
     "output_type": "stream",
     "text": [
      "Bits: 2 Accuracy on training set: 0.77\n",
      "Bits: 2 Accuracy on test set: 0.77\n"
     ]
    },
    {
     "name": "stderr",
     "output_type": "stream",
     "text": [
      "100%|█████████████████████████████████████████████| 5/5 [00:17<00:00,  3.47s/it]\n"
     ]
    },
    {
     "name": "stdout",
     "output_type": "stream",
     "text": [
      "Bits: 3 Accuracy on training set: 0.79\n",
      "Bits: 3 Accuracy on test set: 0.79\n"
     ]
    },
    {
     "name": "stderr",
     "output_type": "stream",
     "text": [
      "100%|█████████████████████████████████████████████| 5/5 [00:28<00:00,  5.67s/it]\n"
     ]
    },
    {
     "name": "stdout",
     "output_type": "stream",
     "text": [
      "Bits: 4 Accuracy on training set: 0.82\n",
      "Bits: 4 Accuracy on test set: 0.82\n"
     ]
    },
    {
     "name": "stderr",
     "output_type": "stream",
     "text": [
      "100%|█████████████████████████████████████████████| 5/5 [00:49<00:00,  9.98s/it]\n"
     ]
    },
    {
     "name": "stdout",
     "output_type": "stream",
     "text": [
      "Bits: 5 Accuracy on training set: 0.83\n",
      "Bits: 5 Accuracy on test set: 0.83\n"
     ]
    },
    {
     "name": "stderr",
     "output_type": "stream",
     "text": [
      "100%|█████████████████████████████████████████████| 5/5 [01:43<00:00, 20.66s/it]\n"
     ]
    },
    {
     "name": "stdout",
     "output_type": "stream",
     "text": [
      "Bits: 6 Accuracy on training set: 0.85\n",
      "Bits: 6 Accuracy on test set: 0.85\n"
     ]
    },
    {
     "name": "stderr",
     "output_type": "stream",
     "text": [
      "100%|█████████████████████████████████████████████| 5/5 [03:38<00:00, 43.70s/it]\n"
     ]
    },
    {
     "name": "stdout",
     "output_type": "stream",
     "text": [
      "Bits: 7 Accuracy on training set: 0.87\n",
      "Bits: 7 Accuracy on test set: 0.86\n"
     ]
    },
    {
     "name": "stderr",
     "output_type": "stream",
     "text": [
      "100%|█████████████████████████████████████████████| 5/5 [07:22<00:00, 88.45s/it]\n"
     ]
    },
    {
     "name": "stdout",
     "output_type": "stream",
     "text": [
      "Bits: 8 Accuracy on training set: 0.89\n",
      "Bits: 8 Accuracy on test set: 0.88\n"
     ]
    },
    {
     "name": "stderr",
     "output_type": "stream",
     "text": [
      "100%|████████████████████████████████████████████| 5/5 [15:37<00:00, 187.59s/it]\n"
     ]
    },
    {
     "name": "stdout",
     "output_type": "stream",
     "text": [
      "Bits: 9 Accuracy on training set: 0.91\n",
      "Bits: 9 Accuracy on test set: 0.88\n"
     ]
    },
    {
     "name": "stderr",
     "output_type": "stream",
     "text": [
      "100%|████████████████████████████████████████████| 5/5 [34:23<00:00, 412.74s/it]\n"
     ]
    },
    {
     "name": "stdout",
     "output_type": "stream",
     "text": [
      "Bits: 10 Accuracy on training set: 0.94\n",
      "Bits: 10 Accuracy on test set: 0.90\n",
      "CPU times: user 6min 29s, sys: 9min 5s, total: 15min 35s\n",
      "Wall time: 2h 23min 35s\n"
     ]
    }
   ],
   "source": [
    "%%time\n",
    "# Foolishly wasting time by doing this loop again\n",
    "# I forgot that for a majority vote, you do not need to retrain the network!\n",
    "\n",
    "train_major = []\n",
    "test_major = []\n",
    "\n",
    "for bit in bit_arr:\n",
    "    hidden_layers = [1024] * 5\n",
    "    lut = Lut(bits=[bit] * (len(hidden_layers) + 1), hidden_layers=hidden_layers, verbose=True)\n",
    "    _ = lut.train(X_train, y_train)\n",
    "    preds_train = lut.predict(X_train, majority_vote=True)\n",
    "    preds_test = lut.predict(X_test, majority_vote=True)\n",
    "\n",
    "    train_acc = accuracy_score(preds_train, y_train)\n",
    "    test_acc = accuracy_score(preds_test, y_test)\n",
    "    train_major.append(train_acc)\n",
    "    test_major.append(test_acc)\n",
    "    print(f\"Bits: {bit} Accuracy on training set: {train_acc:.2f}\")\n",
    "    print(f\"Bits: {bit} Accuracy on test set: {test_acc:.2f}\")"
   ]
  },
  {
   "cell_type": "code",
   "execution_count": 6,
   "id": "259e43f6",
   "metadata": {},
   "outputs": [],
   "source": [
    "bit_arr = list(range(2, 11))\n",
    "\n",
    "train_no_major = [0.64, 0.76, 0.80, 0.83, 0.85, 0.87, 0.89, 0.91, 0.94]\n",
    "test_no_major = [0.65, 0.76, 0.80, 0.83, 0.84, 0.86, 0.87, 0.88, 0.88]\n",
    "\n",
    "train_major = [0.77, 0.79, 0.82, 0.83, 0.85, 0.87, 0.89, 0.91, 0.94]\n",
    "test_major = [0.77, 0.79, 0.82, 0.83, 0.85, 0.86, 0.88, 0.88, 0.90]"
   ]
  },
  {
   "cell_type": "code",
   "execution_count": 10,
   "id": "82ddb721",
   "metadata": {},
   "outputs": [
    {
     "data": {
      "text/plain": [
       "'(2,0.77)(3,0.79)(4,0.82)(5,0.83)(6,0.85)(7,0.86)(8,0.88)(9,0.88)(10,0.9)'"
      ]
     },
     "execution_count": 10,
     "metadata": {},
     "output_type": "execute_result"
    }
   ],
   "source": [
    "s = \"\"\n",
    "for i in range(len(bit_arr)):\n",
    "    s += f\"({bit_arr[i]},{test_major[i]})\"\n",
    "    \n",
    "s"
   ]
  },
  {
   "cell_type": "markdown",
   "id": "f6adea70",
   "metadata": {},
   "source": [
    "# Improve mean layer accuracy"
   ]
  },
  {
   "cell_type": "code",
   "execution_count": 35,
   "id": "d19e9272",
   "metadata": {},
   "outputs": [],
   "source": [
    "# max of n_samples is 70_000\n",
    "X_train, X_test, y_train, y_test = load_mnist(n_samples=70_000)"
   ]
  },
  {
   "cell_type": "code",
   "execution_count": 8,
   "id": "34c6e807",
   "metadata": {},
   "outputs": [
    {
     "name": "stdout",
     "output_type": "stream",
     "text": [
      "10 bits improve layer acc\n"
     ]
    },
    {
     "name": "stderr",
     "output_type": "stream",
     "text": [
      "Layer 4 Acc 0.9456: 100%|██████████████████| 5/5 [106:34:20<00:00, 76732.05s/it]\n"
     ]
    },
    {
     "name": "stdout",
     "output_type": "stream",
     "text": [
      "Accuracy on training set: 0.95\n",
      "Accuracy on test set: 0.90\n",
      "Accuracy on training set with majority vote: 0.95\n",
      "Accuracy on test set with majority vote: 0.91\n"
     ]
    },
    {
     "name": "stderr",
     "output_type": "stream",
     "text": [
      "100%|████████████████████████████████████████████| 5/5 [32:44<00:00, 392.80s/it]\n"
     ]
    },
    {
     "name": "stdout",
     "output_type": "stream",
     "text": [
      "CPU times: user 6h 13min 4s, sys: 10h 38s, total: 16h 13min 42s\n",
      "Wall time: 4d 11h 55min 30s\n"
     ]
    }
   ],
   "source": [
    "%%time\n",
    "for bt_len in [10]:\n",
    "    hidden_layers = [1024] * 5\n",
    "    bits = [bt_len] * (len(hidden_layers) + 1)\n",
    "\n",
    "    params = {\n",
    "        \"bits\": bits,\n",
    "        \"hidden_layers\": hidden_layers,\n",
    "        \"improve_layer_acc\": False,\n",
    "        \"verbose\": True,\n",
    "    }\n",
    "\n",
    "    params_improve = {\n",
    "        \"bits\": bits,\n",
    "        \"hidden_layers\": hidden_layers,\n",
    "        \"improve_layer_acc\": True,\n",
    "        \"discard_num\": 50,\n",
    "        \"patience\": 5,\n",
    "        \"verbose\": True,\n",
    "    }\n",
    "\n",
    "    for p in [params_improve]:\n",
    "        mode = \"normal\" if not p[\"improve_layer_acc\"] else \"improve layer acc\"\n",
    "        print(f\"{p['bits'][0]} bits {mode}\")\n",
    "        lut = Lut(**p)\n",
    "        preds_train = lut.train(X_train, y_train)\n",
    "        acc_train = accuracy_score(preds_train, y_train)\n",
    "        preds_test = lut.predict(X_test)\n",
    "        acc_test = accuracy_score(preds_test, y_test)\n",
    "\n",
    "        print(f\"Accuracy on training set: {acc_train:.2f}\")\n",
    "        print(f\"Accuracy on test set: {acc_test:.2f}\")\n",
    "\n",
    "        preds_train_major = lut.predict(X_train, majority_vote=True)\n",
    "        acc_train_major = accuracy_score(preds_train_major, y_train)\n",
    "        preds_test_major = lut.predict(X_test, majority_vote=True)\n",
    "        acc_test_major = accuracy_score(preds_test_major, y_test)\n",
    "\n",
    "        print(f\"Accuracy on training set with majority vote: {acc_train_major:.2f}\")\n",
    "        print(f\"Accuracy on test set with majority vote: {acc_test_major:.2f}\")\n",
    "\n",
    "        preds_train_, acc_layer = lut.get_accuracies_per_layer(X_train, y_train)\n",
    "\n",
    "        with open(\n",
    "            f\"data/lut/improve_layer_acc/{p['bits'][0]:02}_{mode}_lut.pkl\", \"wb\"\n",
    "        ) as f:\n",
    "            pickle.dump(\n",
    "                {\n",
    "                    \"acc_layer\": acc_layer,\n",
    "                    \"acc_train\": acc_train,\n",
    "                    \"acc_test\": acc_test,\n",
    "                    \"acc_train_major\": acc_train_major,\n",
    "                    \"acc_test_major\": acc_test_major,\n",
    "                    \"params\": p,\n",
    "                },\n",
    "                f,\n",
    "            )\n",
    "\n",
    "#         np.savez(\n",
    "#             f\"data/lut/improve_layer_acc/{p['bits'][0]:02}_{mode}_lut\",\n",
    "#             cols_arr_=np.array(lut.cols_arr_, dtype=\"object\"),\n",
    "#             lut_arr_=np.array(lut.lut_arr_, dtype=\"object\"),\n",
    "#             rnd_arr_=np.array(lut.rnd_arr_, dtype=\"object\"),\n",
    "#         )\n",
    "\n",
    "        with open(\n",
    "            f\"data/lut/improve_layer_acc/{p['bits'][0]:02}_{mode}_lut_npz_replace.pkl\",\n",
    "            \"wb\",\n",
    "        ) as f:\n",
    "            pickle.dump(\n",
    "                {\n",
    "                    \"cols_arr_\": lut.cols_arr_,\n",
    "                    \"lut_arr_\": lut.lut_arr_,\n",
    "                    \"rnd_arr_\": lut.rnd_arr_,\n",
    "                },\n",
    "                f,\n",
    "            )"
   ]
  },
  {
   "cell_type": "code",
   "execution_count": 11,
   "id": "773b72eb",
   "metadata": {},
   "outputs": [],
   "source": [
    "with open(\n",
    "    f\"data/lut/improve_layer_acc/08_improve layer acc_lut.pkl\", \"rb\"\n",
    ") as f:\n",
    "    result = pickle.load(f)"
   ]
  },
  {
   "cell_type": "code",
   "execution_count": 12,
   "id": "158c536d",
   "metadata": {},
   "outputs": [],
   "source": [
    "acc_layer = result[\"acc_layer\"]"
   ]
  },
  {
   "cell_type": "code",
   "execution_count": 17,
   "id": "00b18827",
   "metadata": {},
   "outputs": [
    {
     "data": {
      "text/plain": [
       "0.8842857142857142"
      ]
     },
     "execution_count": 17,
     "metadata": {},
     "output_type": "execute_result"
    }
   ],
   "source": [
    "result[\"acc_test\"]"
   ]
  },
  {
   "cell_type": "code",
   "execution_count": 13,
   "id": "93a39152",
   "metadata": {},
   "outputs": [],
   "source": [
    "out = r\"\"\"\n",
    "\\addplot+[\n",
    "    hist={data=x,bins=10},\n",
    "    draw=blue,\n",
    "    semithick,\n",
    "    pattern=north east lines,\n",
    "    pattern color=blue\n",
    "]\n",
    "table [y expr=1] {\n",
    "\"\"\"\n",
    "\n",
    "for x in acc_layer[0]:\n",
    "    out += f\"{x:.4f}\\n\"\n",
    "    \n",
    "out += r\"\"\"};\n",
    "        \\addlegendentry{Hidden layer 1}\n",
    "\\addplot+[\n",
    "    hist={data=x,bins=10},\n",
    "    draw=red,\n",
    "    semithick,\n",
    "    pattern=north west lines,\n",
    "    pattern color=red\n",
    "    ]\n",
    "            table [y expr=1] {\n",
    "\"\"\"\n",
    "\n",
    "for x in acc_layer[1]:\n",
    "    out += f\"{x:.4f}\\n\"\n",
    "    \n",
    "out += r\"\"\"};\n",
    "        \\addlegendentry{Hidden layer 2}\n",
    "\n",
    "\\addplot+[\n",
    "    hist={data=x,bins=10},\n",
    "    opacity=0.5,\n",
    "    draw=brown,\n",
    "    semithick,\n",
    "    pattern=dots,\n",
    "    pattern color=brown\n",
    "    ]\n",
    "            table [y expr=1] {\n",
    "\"\"\"\n",
    "\n",
    "for x in acc_layer[2]:\n",
    "    out += f\"{x:.4f}\\n\"\n",
    "    \n",
    "out += r\"\"\"};\n",
    "        \\addlegendentry{Hidden layer 3}\n",
    "\n",
    "\\addplot+[\n",
    "    hist={data=x,bins=10},\n",
    "    opacity=0.5,\n",
    "    draw=gray,\n",
    "    semithick,\n",
    "    pattern=grid,\n",
    "    pattern color=gray\n",
    "    ]\n",
    "            table [y expr=1] {\n",
    "\"\"\"\n",
    "\n",
    "for x in acc_layer[3]:\n",
    "    out += f\"{x:.4f}\\n\"\n",
    "    \n",
    "out += r\"\"\"};\n",
    "        \\addlegendentry{Hidden layer 4}\n",
    "\n",
    "\\addplot+[hist={data=x,bins=10}, opacity=0.5]\n",
    "            table [y expr=1] {\n",
    "\"\"\"\n",
    "\n",
    "for x in acc_layer[4]:\n",
    "    out += f\"{x:.4f}\\n\"\n",
    "    \n",
    "out += r\"\"\"};\n",
    "        \\addlegendentry{Hidden layer 5}\n",
    "\"\"\""
   ]
  },
  {
   "cell_type": "markdown",
   "id": "99763133",
   "metadata": {},
   "source": [
    "# Sobel"
   ]
  },
  {
   "cell_type": "code",
   "execution_count": 5,
   "id": "df97582b",
   "metadata": {},
   "outputs": [],
   "source": [
    "from scipy.signal import convolve2d"
   ]
  },
  {
   "cell_type": "code",
   "execution_count": 89,
   "id": "844c2dfb",
   "metadata": {},
   "outputs": [],
   "source": [
    "# Kernels taken from https://homepages.inf.ed.ac.uk/rbf/HIPR2/sobel.htm\n",
    "\n",
    "rcx = np.array([\n",
    "    [1, 0],\n",
    "    [0, -1]\n",
    "])\n",
    "\n",
    "prewittx = np.array([\n",
    "    [-1, 0, 1],\n",
    "    [-1, 0, 1],\n",
    "    [-1, 0, 1],\n",
    "])\n",
    "\n",
    "sobelx = np.array([\n",
    "    [-1, 0, 1],\n",
    "    [-2, 0, 2],\n",
    "    [-1, 0, 1],\n",
    "])\n",
    "\n",
    "sobely = np.array([\n",
    "    [1, 2, 1],\n",
    "    [0, 0, 0],\n",
    "    [-1, -2, -1],\n",
    "])"
   ]
  },
  {
   "cell_type": "code",
   "execution_count": 109,
   "id": "e60970f9",
   "metadata": {},
   "outputs": [
    {
     "data": {
      "image/png": "[encoded data removed]",
      "text/plain": [
       "<Figure size 720x288 with 4 Axes>"
      ]
     },
     "metadata": {
      "needs_background": "light"
     },
     "output_type": "display_data"
    }
   ],
   "source": [
    "# 3 is idx 7\n",
    "idx = 20\n",
    "\n",
    "resx = convolve2d(X_train[idx].reshape((28,28)).astype(int), sobelx, mode=\"same\")\n",
    "resy = convolve2d(X_train[idx].reshape((28,28)).astype(int), sobely, mode=\"same\")\n",
    "\n",
    "resx[resx != 0] = 1\n",
    "resy[resy != 0] = 1\n",
    "\n",
    "fig, axs = plt.subplots(1, 4, figsize=(10, 4))\n",
    "\n",
    "axs[0].imshow(X_train[idx].reshape((28,28)), cmap=\"gray\")\n",
    "axs[1].imshow(resx, cmap=\"gray\")\n",
    "axs[2].imshow(resy, cmap=\"gray\")\n",
    "axs[3].imshow(X_train[idx].reshape((28,28)) + resx.astype(bool) + resy.astype(bool), cmap=\"gray\")\n",
    "plt.tight_layout();"
   ]
  },
  {
   "cell_type": "code",
   "execution_count": 74,
   "id": "ee7dc721",
   "metadata": {},
   "outputs": [],
   "source": [
    "def gsd(X):\n",
    "    dat = []\n",
    "    for x in X:\n",
    "        resx = convolve2d(x.reshape((28,28)).astype(int), sobelx, mode=\"same\")\n",
    "        resy = convolve2d(x.reshape((28,28)).astype(int), sobely, mode=\"same\")\n",
    "        dat.append((x.reshape((28,28)) + resx.astype(bool) + resy.astype(bool)).flatten())\n",
    "        \n",
    "    return np.array(dat)"
   ]
  },
  {
   "cell_type": "code",
   "execution_count": null,
   "id": "7fa7f704",
   "metadata": {},
   "outputs": [],
   "source": [
    "X_train_sobel = gsd(X_train)\n",
    "X_test_sobel = gsd(X_test)"
   ]
  },
  {
   "cell_type": "code",
   "execution_count": 85,
   "id": "19f89fe4",
   "metadata": {},
   "outputs": [
    {
     "data": {
      "image/png": "[encoded data removed]",
      "text/plain": [
       "<Figure size 864x288 with 5 Axes>"
      ]
     },
     "metadata": {
      "needs_background": "light"
     },
     "output_type": "display_data"
    }
   ],
   "source": [
    "fig, axs = plt.subplots(1, 5, figsize=(12, 4))\n",
    "\n",
    "cols = np.random.choice(range(X_train.shape[0]), size=5)\n",
    "\n",
    "for idx, ax in enumerate(axs):\n",
    "    ax.imshow(X_train_sobel[cols[idx]].reshape((28,28)), cmap=\"gray\")\n",
    "    \n",
    "plt.tight_layout()"
   ]
  },
  {
   "cell_type": "code",
   "execution_count": 87,
   "id": "dbed27ec",
   "metadata": {},
   "outputs": [
    {
     "name": "stderr",
     "output_type": "stream",
     "text": [
      "100%|█████████████████████████████████████████████████████████████████████████████████████████████████████████████████████████████████████| 5/5 [07:10<00:00, 86.20s/it]\n"
     ]
    },
    {
     "name": "stdout",
     "output_type": "stream",
     "text": [
      "Accuracy on training set: 0.91\n",
      "Accuracy on test set: 0.90\n",
      "CPU times: user 22.6 s, sys: 30.1 s, total: 52.8 s\n",
      "Wall time: 8min 24s\n"
     ]
    }
   ],
   "source": [
    "%%time\n",
    "hidden_layers = [1024] * 5\n",
    "lut = Lut(bits=[8] * (len(hidden_layers) + 1), hidden_layers=hidden_layers, verbose=True)\n",
    "\n",
    "preds_train = lut.train(X_train_sobel, y_train)\n",
    "print(f\"Accuracy on training set: {accuracy_score(preds_train, y_train):.2f}\")\n",
    "preds_test = lut.predict(X_test_sobel)\n",
    "print(f\"Accuracy on test set: {accuracy_score(preds_test, y_test):.2f}\")"
   ]
  },
  {
   "cell_type": "code",
   "execution_count": 110,
   "id": "aa908054",
   "metadata": {},
   "outputs": [
    {
     "name": "stderr",
     "output_type": "stream",
     "text": [
      "100%|█████████████████████████████████████████████████████████████████████████████████████████████████████████████████████████████████████| 5/5 [00:12<00:00,  2.47s/it]\n"
     ]
    },
    {
     "name": "stdout",
     "output_type": "stream",
     "text": [
      "2 train: 0.70\n",
      "2 test: 0.72\n"
     ]
    },
    {
     "name": "stderr",
     "output_type": "stream",
     "text": [
      "100%|█████████████████████████████████████████████████████████████████████████████████████████████████████████████████████████████████████| 5/5 [00:18<00:00,  3.61s/it]\n"
     ]
    },
    {
     "name": "stdout",
     "output_type": "stream",
     "text": [
      "3 train: 0.77\n",
      "3 test: 0.78\n"
     ]
    },
    {
     "name": "stderr",
     "output_type": "stream",
     "text": [
      "100%|█████████████████████████████████████████████████████████████████████████████████████████████████████████████████████████████████████| 5/5 [00:29<00:00,  5.92s/it]\n"
     ]
    },
    {
     "name": "stdout",
     "output_type": "stream",
     "text": [
      "4 train: 0.83\n",
      "4 test: 0.84\n"
     ]
    },
    {
     "name": "stderr",
     "output_type": "stream",
     "text": [
      "100%|█████████████████████████████████████████████████████████████████████████████████████████████████████████████████████████████████████| 5/5 [00:53<00:00, 10.73s/it]\n"
     ]
    },
    {
     "name": "stdout",
     "output_type": "stream",
     "text": [
      "5 train: 0.86\n",
      "5 test: 0.86\n"
     ]
    },
    {
     "name": "stderr",
     "output_type": "stream",
     "text": [
      "100%|█████████████████████████████████████████████████████████████████████████████████████████████████████████████████████████████████████| 5/5 [01:42<00:00, 20.58s/it]\n"
     ]
    },
    {
     "name": "stdout",
     "output_type": "stream",
     "text": [
      "6 train: 0.88\n",
      "6 test: 0.87\n"
     ]
    },
    {
     "name": "stderr",
     "output_type": "stream",
     "text": [
      "100%|█████████████████████████████████████████████████████████████████████████████████████████████████████████████████████████████████████| 5/5 [03:22<00:00, 40.41s/it]\n"
     ]
    },
    {
     "name": "stdout",
     "output_type": "stream",
     "text": [
      "7 train: 0.90\n",
      "7 test: 0.89\n"
     ]
    },
    {
     "name": "stderr",
     "output_type": "stream",
     "text": [
      "100%|█████████████████████████████████████████████████████████████████████████████████████████████████████████████████████████████████████| 5/5 [06:54<00:00, 82.81s/it]\n"
     ]
    },
    {
     "name": "stdout",
     "output_type": "stream",
     "text": [
      "8 train: 0.91\n",
      "8 test: 0.90\n"
     ]
    },
    {
     "name": "stderr",
     "output_type": "stream",
     "text": [
      "100%|████████████████████████████████████████████████████████████████████████████████████████████████████████████████████████████████████| 5/5 [16:28<00:00, 197.75s/it]\n"
     ]
    },
    {
     "name": "stdout",
     "output_type": "stream",
     "text": [
      "9 train: 0.94\n",
      "9 test: 0.91\n"
     ]
    },
    {
     "name": "stderr",
     "output_type": "stream",
     "text": [
      "100%|████████████████████████████████████████████████████████████████████████████████████████████████████████████████████████████████████| 5/5 [36:29<00:00, 437.89s/it]\n"
     ]
    },
    {
     "name": "stdout",
     "output_type": "stream",
     "text": [
      "10 train: 0.96\n",
      "10 test: 0.91\n",
      "CPU times: user 3min 35s, sys: 5min 6s, total: 8min 41s\n",
      "Wall time: 1h 16min 49s\n"
     ]
    }
   ],
   "source": [
    "%%time\n",
    "train_accs = []\n",
    "test_accs = []\n",
    "for bt in range(2, 11, 1):\n",
    "    hidden_layers = [1024] * 5\n",
    "    lut = Lut(bits=[bt] * (len(hidden_layers) + 1), hidden_layers=hidden_layers, verbose=True)\n",
    "    preds_train = lut.train(X_train_sobel, y_train)\n",
    "    preds_test = lut.predict(X_test_sobel)\n",
    "    \n",
    "    acc_train = accuracy_score(preds_train, y_train)\n",
    "    acc_test = accuracy_score(preds_test, y_test)\n",
    "    \n",
    "    print(f\"{bt} train: {acc_train:.2f}\")\n",
    "    print(f\"{bt} test: {acc_test:.2f}\")\n",
    "    \n",
    "    train_accs.append(acc_train)\n",
    "    test_accs.append(acc_test)"
   ]
  },
  {
   "cell_type": "code",
   "execution_count": 18,
   "id": "f7b2a20f",
   "metadata": {},
   "outputs": [
    {
     "data": {
      "text/plain": [
       "'(2,0.69)(3,0.79)(4,0.84)(5,0.85)(6,0.88)(7,0.89)(8,0.89)(9,0.91)(10,0.91)'"
      ]
     },
     "execution_count": 18,
     "metadata": {},
     "output_type": "execute_result"
    }
   ],
   "source": [
    "\"\".join([f\"({i+2},{test_accs[i]:.2f})\" for i in range(9)])"
   ]
  },
  {
   "cell_type": "code",
   "execution_count": 6,
   "id": "6b84c252",
   "metadata": {},
   "outputs": [],
   "source": [
    "def get_diff(dataset):\n",
    "    dataset_diff_x = np.diff(dataset, axis=1)\n",
    "    dataset_diff_x = np.hstack((dataset_diff_x, np.zeros((dataset.shape[0],1), dtype=bool)))\n",
    "\n",
    "    dataset_diff_y = np.zeros_like(dataset)\n",
    "    for i in range(dataset.shape[0]):\n",
    "        dataset_diff_y[i] = (\n",
    "            np.vstack((np.diff(dataset[i].reshape((28,28)), axis=0), np.zeros((1,28), dtype=bool)))\n",
    "            .flatten()\n",
    "        )\n",
    "\n",
    "    dataset_diff = dataset + dataset_diff_x + dataset_diff_y\n",
    "    return dataset_diff\n",
    "\n",
    "def get_diff_xy(dataset):\n",
    "    dataset_diff_x = np.diff(dataset, axis=1)\n",
    "    dataset_diff_x = np.hstack((dataset_diff_x, np.zeros((dataset.shape[0],1), dtype=bool)))\n",
    "\n",
    "    dataset_sobely = np.zeros_like(dataset)\n",
    "    for i in range(dataset.shape[0]):\n",
    "        dataset_sobely[i] = (\n",
    "            np.vstack((np.diff(dataset[i].reshape((28,28)), axis=0), np.zeros((1,28), dtype=bool)))\n",
    "            .flatten()\n",
    "        )\n",
    "\n",
    "    return dataset_diff_x, dataset_sobely"
   ]
  },
  {
   "cell_type": "code",
   "execution_count": 7,
   "id": "138e654b",
   "metadata": {},
   "outputs": [],
   "source": [
    "X_train_diff = get_diff(X_train)\n",
    "X_train_diff_x, X_train_diff_y = get_diff_xy(X_train)"
   ]
  },
  {
   "cell_type": "code",
   "execution_count": 119,
   "id": "bd334bdc",
   "metadata": {},
   "outputs": [],
   "source": [
    "plt.rcParams.update(\n",
    "    {\"text.usetex\": True, \"font.family\": \"serif\", \"font.serif\": [\"Computer Modern Roman\"],}\n",
    ")"
   ]
  },
  {
   "cell_type": "code",
   "execution_count": 120,
   "id": "cd1cb569",
   "metadata": {},
   "outputs": [
    {
     "data": {
      "image/png": "[encoded data removed]",
      "text/plain": [
       "<Figure size 432x288 with 4 Axes>"
      ]
     },
     "metadata": {
      "needs_background": "light"
     },
     "output_type": "display_data"
    }
   ],
   "source": [
    "fig, axs = plt.subplots(1, 4)\n",
    "\n",
    "idx = 7\n",
    "\n",
    "axs[0].imshow(X_train[idx].reshape((28,28)), cmap=\"gray\", interpolation=\"none\")\n",
    "axs[0].set_title(\"Original\")\n",
    "axs[1].imshow(X_train_diff_x[idx].reshape((28,28)), cmap=\"gray\", interpolation=\"none\")\n",
    "axs[1].set_title(\"Diff $x$\")\n",
    "axs[2].imshow(X_train_diff_y[idx].reshape((28,28)), cmap=\"gray\", interpolation=\"none\")\n",
    "axs[2].set_title(\"Diff $y$\")\n",
    "axs[3].imshow(X_train_diff[idx].reshape((28,28)), cmap=\"gray\", interpolation=\"none\")\n",
    "axs[3].set_title(\"Original\\n+ Diff $x$\\n+ Diff $y$\")\n",
    "\n",
    "for ax in axs:\n",
    "    ax.axis(\"off\")\n",
    "    \n",
    "plt.tight_layout()"
   ]
  },
  {
   "cell_type": "code",
   "execution_count": 121,
   "id": "b717d1aa",
   "metadata": {},
   "outputs": [],
   "source": [
    "fig.savefig(r\"thesis/images/diff.pdf\", bbox_inches=\"tight\")"
   ]
  },
  {
   "cell_type": "markdown",
   "id": "a7d55f5f",
   "metadata": {},
   "source": [
    "# Boosting"
   ]
  },
  {
   "cell_type": "code",
   "execution_count": 10,
   "id": "5a81f881",
   "metadata": {},
   "outputs": [],
   "source": [
    "class boostedLutClassifier:\n",
    "    \"\"\"\n",
    "    Boosted Lut classifier\n",
    "    \"\"\"\n",
    "    def __init__(self, bits, hidden_layers, num_lut_networks, majority_vote=False, improve_layer_acc=False):\n",
    "        self.bits = bits\n",
    "        self.hidden_layers = hidden_layers\n",
    "        self.num_lut_networks = num_lut_networks\n",
    "        self.lut_networks_ = []\n",
    "        self.alphas = []\n",
    "        self.weight_arr = []\n",
    "        self.majority_vote = majority_vote\n",
    "        self.improve_layer_acc = improve_layer_acc\n",
    "        \n",
    "    def train(self, X, y):\n",
    "        weights = np.ones((X.shape[0],)) / X.shape[0]\n",
    "        mask = np.ones_like(weights, dtype=bool)\n",
    "        self.weight_arr.append(weights.copy())\n",
    "        with tqdm(range(self.num_lut_networks - 1)) as t:\n",
    "            for _ in t:\n",
    "                lut = Lut(bits=self.bits, hidden_layers=self.hidden_layers, improve_layer_acc=self.improve_layer_acc)\n",
    "                _ = lut.train(X[mask], y[mask])\n",
    "                preds = lut.predict(X, majority_vote=self.majority_vote)\n",
    "                self.lut_networks_.append(lut)\n",
    "                errn = np.sum(weights * (preds != y)) / np.sum(weights)\n",
    "                alpha = np.log((1 - errn) / errn)\n",
    "                self.alphas.append(alpha)\n",
    "                weights = weights * np.exp(alpha * (preds != y))\n",
    "                mask = np.argsort(weights)[::-1][:len(weights) // 5]\n",
    "                self.weight_arr.append(weights.copy())\n",
    "        \n",
    "    def predict(self, X):\n",
    "        for idx, lut in enumerate(self.lut_networks_):\n",
    "            if idx == 0:\n",
    "                preds = lut.predict(X, majority_vote=self.majority_vote).astype(float)\n",
    "                preds[preds == 0] = -1\n",
    "                preds *= self.alphas[idx]\n",
    "            else:\n",
    "                preds_ = lut.predict(X, majority_vote=self.majority_vote).astype(float)\n",
    "                preds_[preds_ == 0] = -1\n",
    "                preds_ *= self.alphas[idx]\n",
    "                preds += preds_\n",
    "        preds = np.sign(preds)\n",
    "        preds[preds == -1] = 0\n",
    "        preds = preds.astype(int)\n",
    "        return preds"
   ]
  },
  {
   "cell_type": "code",
   "execution_count": 7,
   "id": "d58f900a",
   "metadata": {},
   "outputs": [
    {
     "name": "stderr",
     "output_type": "stream",
     "text": [
      "100%|█████████████████████████████████████████████████████████████████████████████████████████████████████████████████████████████████| 255/255 [52:30<00:00, 12.35s/it]\n"
     ]
    },
    {
     "name": "stdout",
     "output_type": "stream",
     "text": [
      "Num trees: 256 Accuracy on training set: 0.82\n",
      "Num trees: 256 Accuracy on test set: 0.83\n"
     ]
    },
    {
     "name": "stderr",
     "output_type": "stream",
     "text": [
      "100%|███████████████████████████████████████████████████████████████████████████████████████████████████████████████████████████████| 511/511 [1:45:27<00:00, 12.38s/it]\n"
     ]
    },
    {
     "name": "stdout",
     "output_type": "stream",
     "text": [
      "Num trees: 512 Accuracy on training set: 0.87\n",
      "Num trees: 512 Accuracy on test set: 0.87\n"
     ]
    },
    {
     "name": "stderr",
     "output_type": "stream",
     "text": [
      "100%|█████████████████████████████████████████████████████████████████████████████████████████████████████████████████████████████| 1023/1023 [3:36:31<00:00, 12.70s/it]\n"
     ]
    },
    {
     "name": "stdout",
     "output_type": "stream",
     "text": [
      "Num trees: 1024 Accuracy on training set: 0.89\n",
      "Num trees: 1024 Accuracy on test set: 0.89\n",
      "CPU times: user 6h 38min 14s, sys: 3h 16min, total: 9h 54min 15s\n",
      "Wall time: 11h 27min 5s\n"
     ]
    }
   ],
   "source": [
    "%%time\n",
    "\n",
    "num_trees_arr = [256, 512, 1024]\n",
    "\n",
    "tr_accs = []\n",
    "te_accs = []\n",
    "\n",
    "for num_trees in num_trees_arr:\n",
    "    hidden_layers = [1024] * 5\n",
    "    bits= [2] * (len(hidden_layers) + 1)\n",
    "\n",
    "    clf = boostedLutClassifier(bits, hidden_layers, num_trees)\n",
    "    clf.train(X_train, y_train)\n",
    "\n",
    "    preds_train = clf.predict(X_train)\n",
    "    tr_acc = accuracy_score(preds_train, y_train)\n",
    "    tr_accs.append(tr_acc)\n",
    "    print(f\"Num trees: {num_trees} Accuracy on training set: {tr_acc:.2f}\")\n",
    "    preds_test = clf.predict(X_test)\n",
    "    te_acc = accuracy_score(preds_test, y_test)\n",
    "    te_accs.append(te_acc)\n",
    "    print(f\"Num trees: {num_trees} Accuracy on test set: {te_acc:.2f}\")"
   ]
  },
  {
   "cell_type": "markdown",
   "id": "47d0dc31",
   "metadata": {},
   "source": [
    "```python\n",
    "num_trees_arr = [2, 4, 8, 16, 32, 64, 128]\n",
    "\n",
    "tr_accs = [\n",
    "    0.67,\n",
    "    0.71,\n",
    "    0.75,\n",
    "    0.76,\n",
    "    0.76,\n",
    "    0.78,\n",
    "    0.79,\n",
    "]\n",
    "\n",
    "te_accs = [\n",
    "    0.69,\n",
    "    0.73,\n",
    "    0.75,\n",
    "    0.78,\n",
    "    0.77,\n",
    "    0.79,\n",
    "    0.80,\n",
    "]\n",
    "```"
   ]
  },
  {
   "cell_type": "code",
   "execution_count": 60,
   "id": "12819a22",
   "metadata": {},
   "outputs": [
    {
     "name": "stderr",
     "output_type": "stream",
     "text": [
      "100%|█████████████████████████████████████████████████████████████████████████████████████████████████████████████████████████████████████| 1/1 [00:21<00:00, 21.66s/it]\n"
     ]
    },
    {
     "name": "stdout",
     "output_type": "stream",
     "text": [
      "Num trees: 2 Accuracy on training set: 0.67\n",
      "Num trees: 2 Accuracy on test set: 0.69\n"
     ]
    },
    {
     "name": "stderr",
     "output_type": "stream",
     "text": [
      "100%|█████████████████████████████████████████████████████████████████████████████████████████████████████████████████████████████████████| 3/3 [00:44<00:00, 14.73s/it]\n"
     ]
    },
    {
     "name": "stdout",
     "output_type": "stream",
     "text": [
      "Num trees: 4 Accuracy on training set: 0.63\n",
      "Num trees: 4 Accuracy on test set: 0.64\n"
     ]
    },
    {
     "name": "stderr",
     "output_type": "stream",
     "text": [
      "100%|█████████████████████████████████████████████████████████████████████████████████████████████████████████████████████████████████████| 7/7 [01:27<00:00, 12.56s/it]\n"
     ]
    },
    {
     "name": "stdout",
     "output_type": "stream",
     "text": [
      "Num trees: 8 Accuracy on training set: 0.66\n",
      "Num trees: 8 Accuracy on test set: 0.67\n"
     ]
    },
    {
     "name": "stderr",
     "output_type": "stream",
     "text": [
      "100%|███████████████████████████████████████████████████████████████████████████████████████████████████████████████████████████████████| 15/15 [03:04<00:00, 12.28s/it]\n"
     ]
    },
    {
     "name": "stdout",
     "output_type": "stream",
     "text": [
      "Num trees: 16 Accuracy on training set: 0.70\n",
      "Num trees: 16 Accuracy on test set: 0.72\n"
     ]
    },
    {
     "name": "stderr",
     "output_type": "stream",
     "text": [
      "100%|███████████████████████████████████████████████████████████████████████████████████████████████████████████████████████████████████| 31/31 [05:58<00:00, 11.58s/it]\n"
     ]
    },
    {
     "name": "stdout",
     "output_type": "stream",
     "text": [
      "Num trees: 32 Accuracy on training set: 0.73\n",
      "Num trees: 32 Accuracy on test set: 0.74\n"
     ]
    },
    {
     "name": "stderr",
     "output_type": "stream",
     "text": [
      "100%|███████████████████████████████████████████████████████████████████████████████████████████████████████████████████████████████████| 63/63 [12:02<00:00, 11.47s/it]\n"
     ]
    },
    {
     "name": "stdout",
     "output_type": "stream",
     "text": [
      "Num trees: 64 Accuracy on training set: 0.86\n",
      "Num trees: 64 Accuracy on test set: 0.86\n"
     ]
    },
    {
     "name": "stderr",
     "output_type": "stream",
     "text": [
      "100%|█████████████████████████████████████████████████████████████████████████████████████████████████████████████████████████████████| 127/127 [23:51<00:00, 11.27s/it]\n"
     ]
    },
    {
     "name": "stdout",
     "output_type": "stream",
     "text": [
      "Num trees: 128 Accuracy on training set: 0.90\n",
      "Num trees: 128 Accuracy on test set: 0.90\n"
     ]
    },
    {
     "name": "stderr",
     "output_type": "stream",
     "text": [
      "100%|█████████████████████████████████████████████████████████████████████████████████████████████████████████████████████████████████| 255/255 [48:07<00:00, 11.32s/it]\n"
     ]
    },
    {
     "name": "stdout",
     "output_type": "stream",
     "text": [
      "Num trees: 256 Accuracy on training set: 0.93\n",
      "Num trees: 256 Accuracy on test set: 0.93\n"
     ]
    },
    {
     "name": "stderr",
     "output_type": "stream",
     "text": [
      "100%|███████████████████████████████████████████████████████████████████████████████████████████████████████████████████████████████| 511/511 [1:35:49<00:00, 11.25s/it]\n"
     ]
    },
    {
     "name": "stdout",
     "output_type": "stream",
     "text": [
      "Num trees: 512 Accuracy on training set: 0.93\n",
      "Num trees: 512 Accuracy on test set: 0.93\n"
     ]
    },
    {
     "name": "stderr",
     "output_type": "stream",
     "text": [
      "100%|█████████████████████████████████████████████████████████████████████████████████████████████████████████████████████████████| 1023/1023 [3:11:05<00:00, 11.21s/it]\n"
     ]
    },
    {
     "name": "stdout",
     "output_type": "stream",
     "text": [
      "Num trees: 1024 Accuracy on training set: 0.94\n",
      "Num trees: 1024 Accuracy on test set: 0.93\n",
      "CPU times: user 7h 30min 19s, sys: 3h 45min 26s, total: 11h 15min 46s\n",
      "Wall time: 12h 13min 12s\n"
     ]
    },
    {
     "data": {
      "text/plain": [
       "([0.6749666666666667,\n",
       "  0.6313166666666666,\n",
       "  0.6617666666666666,\n",
       "  0.7003166666666667,\n",
       "  0.7349,\n",
       "  0.8600833333333333,\n",
       "  0.8991666666666667,\n",
       "  0.9333333333333333,\n",
       "  0.9327,\n",
       "  0.93755],\n",
       " [0.6857,\n",
       "  0.6381,\n",
       "  0.6679,\n",
       "  0.7165,\n",
       "  0.737,\n",
       "  0.8579,\n",
       "  0.8998,\n",
       "  0.9283,\n",
       "  0.9306,\n",
       "  0.9349])"
      ]
     },
     "execution_count": 60,
     "metadata": {},
     "output_type": "execute_result"
    }
   ],
   "source": [
    "%%time\n",
    "\n",
    "num_trees_arr = [2, 4, 8, 16, 32, 64, 128, 256, 512, 1024]\n",
    "\n",
    "tr_accs = []\n",
    "te_accs = []\n",
    "\n",
    "for num_trees in num_trees_arr:\n",
    "    hidden_layers = [1024] * 5\n",
    "    bits= [2] * (len(hidden_layers) + 1)\n",
    "\n",
    "    clf = boostedLutClassifier(bits, hidden_layers, num_trees)\n",
    "    clf.train(X_train, y_train)\n",
    "\n",
    "    preds_train = clf.predict(X_train)\n",
    "    tr_acc = accuracy_score(preds_train, y_train)\n",
    "    tr_accs.append(tr_acc)\n",
    "    print(f\"Num trees: {num_trees} Accuracy on training set: {tr_acc:.2f}\")\n",
    "    preds_test = clf.predict(X_test)\n",
    "    te_acc = accuracy_score(preds_test, y_test)\n",
    "    te_accs.append(te_acc)\n",
    "    print(f\"Num trees: {num_trees} Accuracy on test set: {te_acc:.2f}\")\n",
    "    \n",
    "tr_accs, te_accs"
   ]
  },
  {
   "cell_type": "code",
   "execution_count": 67,
   "id": "7650653c",
   "metadata": {},
   "outputs": [
    {
     "name": "stdout",
     "output_type": "stream",
     "text": [
      "(2,0.69)(4,0.64)(8,0.67)(16,0.72)(32,0.74)(64,0.86)(128,0.90)(256,0.93)(512,0.93)(1024,0.93)"
     ]
    }
   ],
   "source": [
    "# tr_accs, te_accs\n",
    "bts = [2 ** x for x in range(1, 11)]\n",
    "\n",
    "for i in range(10):\n",
    "    print(f\"({bts[i]},{te_accs[i]:.2f})\", end=\"\")"
   ]
  },
  {
   "cell_type": "code",
   "execution_count": 68,
   "id": "3d19250d",
   "metadata": {},
   "outputs": [
    {
     "name": "stderr",
     "output_type": "stream",
     "text": [
      "100%|███████████████████████████████████████████████████████████████████████████████████████████████████████████████████████████████| 1023/1023 [17:38<00:00,  1.03s/it]\n"
     ]
    },
    {
     "name": "stdout",
     "output_type": "stream",
     "text": [
      "Num trees: 1024 Accuracy on training set: 0.94\n",
      "Num trees: 1024 Accuracy on test set: 0.94\n",
      "CPU times: user 15min 13s, sys: 14min 27s, total: 29min 41s\n",
      "Wall time: 34min 15s\n"
     ]
    }
   ],
   "source": [
    "%%time\n",
    "\n",
    "num_trees = 1024\n",
    "hidden_layers = [64] * 5\n",
    "bits= [2] * (len(hidden_layers) + 1)\n",
    "\n",
    "clf = boostedLutClassifier(bits, hidden_layers, num_trees)\n",
    "clf.train(X_train, y_train)\n",
    "\n",
    "preds_train = clf.predict(X_train)\n",
    "tr_acc = accuracy_score(preds_train, y_train)\n",
    "print(f\"Num trees: {num_trees} Accuracy on training set: {tr_acc:.2f}\")\n",
    "preds_test = clf.predict(X_test)\n",
    "te_acc = accuracy_score(preds_test, y_test)\n",
    "print(f\"Num trees: {num_trees} Accuracy on test set: {te_acc:.2f}\")"
   ]
  },
  {
   "cell_type": "markdown",
   "id": "7f28bdeb",
   "metadata": {},
   "source": [
    "## Just plain ensembling"
   ]
  },
  {
   "cell_type": "code",
   "execution_count": 13,
   "id": "3cd3134f",
   "metadata": {},
   "outputs": [
    {
     "name": "stdout",
     "output_type": "stream",
     "text": [
      "Num trees: 2 Accuracy on training set: 0.68\n",
      "Num trees: 2 Accuracy on test set: 0.69\n",
      "Num trees: 4 Accuracy on training set: 0.68\n",
      "Num trees: 4 Accuracy on test set: 0.69\n",
      "Num trees: 8 Accuracy on training set: 0.76\n",
      "Num trees: 8 Accuracy on test set: 0.77\n",
      "Num trees: 16 Accuracy on training set: 0.76\n",
      "Num trees: 16 Accuracy on test set: 0.77\n",
      "Num trees: 32 Accuracy on training set: 0.77\n",
      "Num trees: 32 Accuracy on test set: 0.78\n",
      "Num trees: 64 Accuracy on training set: 0.78\n",
      "Num trees: 64 Accuracy on test set: 0.79\n",
      "Num trees: 128 Accuracy on training set: 0.77\n",
      "Num trees: 128 Accuracy on test set: 0.79\n",
      "Num trees: 256 Accuracy on training set: 0.78\n",
      "Num trees: 256 Accuracy on test set: 0.79\n",
      "Num trees: 512 Accuracy on training set: 0.78\n",
      "Num trees: 512 Accuracy on test set: 0.79\n",
      "Num trees: 1024 Accuracy on training set: 0.78\n",
      "Num trees: 1024 Accuracy on test set: 0.79\n",
      "CPU times: user 4h 10min 49s, sys: 2h 40min 52s, total: 6h 51min 42s\n",
      "Wall time: 8h 34min 43s\n"
     ]
    },
    {
     "data": {
      "text/plain": [
       "([0.6847,\n",
       "  0.6836,\n",
       "  0.75925,\n",
       "  0.7551333333333333,\n",
       "  0.76885,\n",
       "  0.7778666666666667,\n",
       "  0.7709833333333334,\n",
       "  0.77755,\n",
       "  0.77765,\n",
       "  0.78045],\n",
       " [0.6899, 0.6944, 0.7744, 0.7695, 0.781, 0.7858, 0.7878, 0.79, 0.7894, 0.7917])"
      ]
     },
     "execution_count": 13,
     "metadata": {},
     "output_type": "execute_result"
    }
   ],
   "source": [
    "%%time\n",
    "\n",
    "tr_accs = []\n",
    "te_accs = []\n",
    "\n",
    "for num in [2, 4, 8, 16, 32, 64, 128, 256, 512, 1024]:\n",
    "    Y_train = np.zeros((num, y_train.shape[0]), dtype=bool)\n",
    "    Y_test = np.zeros((num, y_test.shape[0]), dtype=bool)\n",
    "\n",
    "    for i in range(num):\n",
    "        hidden_layers = [1024] * 5\n",
    "        lut = Lut(bits=[2] * (len(hidden_layers) + 1), hidden_layers=hidden_layers, verbose=False)\n",
    "\n",
    "        preds_train = lut.train(X_train, y_train)\n",
    "        Y_train[i] = preds_train\n",
    "        preds_test = lut.predict(X_test)\n",
    "        Y_test[i] = preds_test\n",
    "        \n",
    "    tr_acc = accuracy_score(scipy.stats.mode(Y_train, axis=0)[0][0], y_train)\n",
    "    te_acc = accuracy_score(scipy.stats.mode(Y_test, axis=0)[0][0], y_test)\n",
    "\n",
    "    tr_accs.append(tr_acc)\n",
    "    te_accs.append(te_acc)\n",
    "\n",
    "    print(f\"Num trees: {num} Accuracy on training set: {tr_acc:.2f}\")\n",
    "    print(f\"Num trees: {num} Accuracy on test set: {te_acc:.2f}\")\n",
    "    \n",
    "tr_accs, te_accs"
   ]
  },
  {
   "cell_type": "code",
   "execution_count": 2,
   "id": "3b50a86e",
   "metadata": {},
   "outputs": [
    {
     "name": "stdout",
     "output_type": "stream",
     "text": [
      "(2,0.69)(4,0.69)(8,0.77)(16,0.77)(32,0.78)(64,0.79)(128,0.79)(256,0.79)(512,0.79)(1024,0.79)"
     ]
    }
   ],
   "source": [
    "tr_accs = [0.6847,\n",
    "  0.6836,\n",
    "  0.75925,\n",
    "  0.7551333333333333,\n",
    "  0.76885,\n",
    "  0.7778666666666667,\n",
    "  0.7709833333333334,\n",
    "  0.77755,\n",
    "  0.77765,\n",
    "  0.78045]\n",
    "\n",
    "te_accs = [0.6899, 0.6944, 0.7744, 0.7695, 0.781, 0.7858, 0.7878, 0.79, 0.7894, 0.7917]\n",
    "\n",
    "bts = [2 ** x for x in range(1, 11)]\n",
    "\n",
    "for i in range(10):\n",
    "    print(f\"({bts[i]},{te_accs[i]:.2f})\", end=\"\")"
   ]
  },
  {
   "cell_type": "markdown",
   "id": "ef878cf8",
   "metadata": {},
   "source": [
    "# Random forests\n",
    "\n",
    "**Algo**\n",
    "- For each individual tree\n",
    "  - Select subset of training data"
   ]
  },
  {
   "cell_type": "code",
   "execution_count": 13,
   "id": "a8ff5029",
   "metadata": {},
   "outputs": [],
   "source": [
    "class randomLutClassifier:\n",
    "    \"\"\"\n",
    "    Random forest-like lut classifier\n",
    "    \"\"\"\n",
    "    def __init__(self, bits, hidden_layers, num_lut_networks):\n",
    "        self.bits = bits\n",
    "        self.hidden_layers = hidden_layers\n",
    "        self.num_lut_networks = num_lut_networks\n",
    "        self.lut_networks_ = []\n",
    "        self.masks = []\n",
    "        \n",
    "    def train(self, X, y):\n",
    "        with tqdm(range(self.num_lut_networks - 1)) as t:\n",
    "            for _ in t:\n",
    "                lut = Lut(bits=self.bits, hidden_layers=self.hidden_layers)\n",
    "                mask = np.random.choice([True, False], size=X.shape[0])\n",
    "                self.masks.append(mask)\n",
    "                preds = lut.train(X[mask], y[mask])\n",
    "                self.lut_networks_.append(lut)\n",
    "        \n",
    "    def predict(self, X):\n",
    "        preds = []\n",
    "        for idx, lut in enumerate(self.lut_networks_):\n",
    "            pred = lut.predict(X)\n",
    "            preds.append(pred)\n",
    "                \n",
    "        preds = np.apply_along_axis(scipy.stats.mode, 0, preds)[0][0]\n",
    "        return preds"
   ]
  },
  {
   "cell_type": "code",
   "execution_count": 17,
   "id": "e96cb72b",
   "metadata": {},
   "outputs": [
    {
     "name": "stderr",
     "output_type": "stream",
     "text": [
      "100%|████████████████████████████████████████████████████████████████████████████████████████████████████████████████████████████████| 63/63 [3:30:22<00:00, 200.36s/it]\n"
     ]
    },
    {
     "name": "stdout",
     "output_type": "stream",
     "text": [
      "Accuracy on training set: 0.89\n",
      "Accuracy on test set: 0.87\n",
      "CPU times: user 40min 8s, sys: 38min 27s, total: 1h 18min 36s\n",
      "Wall time: 12h 12s\n"
     ]
    }
   ],
   "source": [
    "%%time\n",
    "\n",
    "hidden_layers = [1024] * 5\n",
    "clf = randomLutClassifier(bits=[8] * (len(hidden_layers) + 1), hidden_layers=hidden_layers, num_lut_networks=64)\n",
    "clf.train(X_train, y_train)\n",
    "\n",
    "preds_train = clf.predict(X_train)\n",
    "print(f\"Accuracy on training set: {accuracy_score(preds_train, y_train):.2f}\")\n",
    "preds_test = clf.predict(X_test)\n",
    "print(f\"Accuracy on test set: {accuracy_score(preds_test, y_test):.2f}\")"
   ]
  },
  {
   "cell_type": "markdown",
   "id": "371865fe",
   "metadata": {},
   "source": [
    "# Combining different methods"
   ]
  },
  {
   "cell_type": "code",
   "execution_count": null,
   "id": "4f22039c",
   "metadata": {},
   "outputs": [],
   "source": [
    "%%time\n",
    "\n",
    "hidden_layers = [64] * 5\n",
    "bits= [2] * (len(hidden_layers) + 1)\n",
    "\n",
    "clf = boostedLutClassifier(bits, hidden_layers, num_lut_networks=256, improve_layer_acc=True)\n",
    "clf.train(X_train_diff, y_train)\n",
    "\n",
    "preds_train = clf.predict(X_train_diff)\n",
    "tr_acc = accuracy_score(preds_train, y_train)"
   ]
  },
  {
   "cell_type": "code",
   "execution_count": 14,
   "id": "a5be85da",
   "metadata": {},
   "outputs": [
    {
     "name": "stdout",
     "output_type": "stream",
     "text": [
      "Accuracy on training set: 0.756\n",
      "Accuracy on test set: 0.728\n"
     ]
    }
   ],
   "source": [
    "print(f\"Accuracy on training set: {tr_acc:.3f}\")\n",
    "preds_test = clf.predict(X_test)\n",
    "te_acc = accuracy_score(preds_test, y_test)\n",
    "print(f\"Accuracy on test set: {te_acc:.3f}\")"
   ]
  },
  {
   "cell_type": "code",
   "execution_count": 16,
   "id": "310d4cae",
   "metadata": {},
   "outputs": [],
   "source": [
    "X_train_diff = get_diff(X_train)\n",
    "X_test_diff = get_diff(X_test)"
   ]
  },
  {
   "cell_type": "code",
   "execution_count": 17,
   "id": "30316b1b",
   "metadata": {},
   "outputs": [
    {
     "name": "stderr",
     "output_type": "stream",
     "text": [
      "100%|████████████████████████████████████████████████████████████████████████████████████████████████████████████████████████████████████████████████████████████████| 1023/1023 [5:31:25<00:00, 19.44s/it]\n"
     ]
    },
    {
     "name": "stdout",
     "output_type": "stream",
     "text": [
      "Accuracy on training set: 0.754\n",
      "Accuracy on test set: 0.779\n",
      "CPU times: user 4h 28min 34s, sys: 45min 27s, total: 5h 14min 1s\n",
      "Wall time: 5h 46min 41s\n"
     ]
    }
   ],
   "source": [
    "%%time\n",
    "\n",
    "hidden_layers = [64] * 5\n",
    "bits= [2] * (len(hidden_layers) + 1)\n",
    "\n",
    "clf = boostedLutClassifier(bits, hidden_layers, num_lut_networks=1024, improve_layer_acc=True)\n",
    "clf.train(X_train_diff, y_train)\n",
    "\n",
    "preds_train = clf.predict(X_train_diff)\n",
    "tr_acc = accuracy_score(preds_train, y_train)\n",
    "print(f\"Accuracy on training set: {tr_acc:.3f}\")\n",
    "preds_test = clf.predict(X_test_diff)\n",
    "te_acc = accuracy_score(preds_test, y_test)\n",
    "print(f\"Accuracy on test set: {te_acc:.3f}\")"
   ]
  },
  {
   "cell_type": "markdown",
   "id": "cefcc7e2",
   "metadata": {},
   "source": [
    "# Size vs. acc"
   ]
  },
  {
   "cell_type": "code",
   "execution_count": 15,
   "id": "4413aa6e",
   "metadata": {},
   "outputs": [],
   "source": [
    "from lut import get_lut_size"
   ]
  },
  {
   "cell_type": "code",
   "execution_count": 7,
   "id": "66ea86a9",
   "metadata": {},
   "outputs": [],
   "source": [
    "nums = [2 ** x for x in range(1, 13)]\n",
    "lut_sizes = [get_lut_size(8, [num] * 5 + [1]) / 1000 for num in nums]"
   ]
  },
  {
   "cell_type": "code",
   "execution_count": 18,
   "id": "88e95fa9",
   "metadata": {},
   "outputs": [
    {
     "name": "stdout",
     "output_type": "stream",
     "text": [
      "Num: 2 Accuracy on training set: 0.62\n",
      "Num: 2 Accuracy on test set: 0.63\n",
      "Num: 4 Accuracy on training set: 0.66\n",
      "Num: 4 Accuracy on test set: 0.67\n",
      "Num: 8 Accuracy on training set: 0.75\n",
      "Num: 8 Accuracy on test set: 0.75\n",
      "Num: 16 Accuracy on training set: 0.79\n",
      "Num: 16 Accuracy on test set: 0.79\n",
      "Num: 32 Accuracy on training set: 0.84\n",
      "Num: 32 Accuracy on test set: 0.83\n",
      "Num: 64 Accuracy on training set: 0.85\n",
      "Num: 64 Accuracy on test set: 0.84\n",
      "Num: 128 Accuracy on training set: 0.88\n",
      "Num: 128 Accuracy on test set: 0.87\n",
      "Num: 256 Accuracy on training set: 0.88\n",
      "Num: 256 Accuracy on test set: 0.86\n",
      "Num: 512 Accuracy on training set: 0.89\n",
      "Num: 512 Accuracy on test set: 0.87\n",
      "Num: 1024 Accuracy on training set: 0.89\n",
      "Num: 1024 Accuracy on test set: 0.88\n",
      "Num: 2048 Accuracy on training set: 0.89\n",
      "Num: 2048 Accuracy on test set: 0.87\n",
      "CPU times: user 2min 25s, sys: 3min 28s, total: 5min 53s\n",
      "Wall time: 38min 11s\n"
     ]
    }
   ],
   "source": [
    "%%time\n",
    "accs_tr = []\n",
    "accs_te = []\n",
    "for num in nums:\n",
    "    hidden_layers = [num] * 5\n",
    "    lut = Lut(bits=[8] * (len(hidden_layers) + 1), hidden_layers=hidden_layers, verbose=False)\n",
    "\n",
    "    preds_train = lut.train(X_train, y_train)\n",
    "    preds_test = lut.predict(X_test)\n",
    "    \n",
    "    acc_tr = accuracy_score(preds_train, y_train)\n",
    "    acc_te = accuracy_score(preds_test, y_test)\n",
    "    \n",
    "    accs_tr.append(acc_tr)\n",
    "    accs_te.append(acc_te)\n",
    "    \n",
    "    print(f\"Num: {num} Accuracy on training set: {acc_tr:.2f}\")\n",
    "    print(f\"Num: {num} Accuracy on test set: {acc_te:.2f}\")"
   ]
  },
  {
   "cell_type": "code",
   "execution_count": 22,
   "id": "4e02e3f6",
   "metadata": {},
   "outputs": [
    {
     "data": {
      "text/plain": [
       "([0.6249,\n",
       "  0.6638333333333334,\n",
       "  0.7486333333333334,\n",
       "  0.7937333333333333,\n",
       "  0.83615,\n",
       "  0.8530833333333333,\n",
       "  0.88195,\n",
       "  0.8777833333333334,\n",
       "  0.88995,\n",
       "  0.89025,\n",
       "  0.8900833333333333],\n",
       " [0.6317,\n",
       "  0.6711,\n",
       "  0.749,\n",
       "  0.7861,\n",
       "  0.8266,\n",
       "  0.839,\n",
       "  0.8679,\n",
       "  0.8578,\n",
       "  0.872,\n",
       "  0.878,\n",
       "  0.8743])"
      ]
     },
     "execution_count": 22,
     "metadata": {},
     "output_type": "execute_result"
    }
   ],
   "source": [
    "accs_tr, accs_te"
   ]
  },
  {
   "cell_type": "code",
   "execution_count": null,
   "id": "b9c033ae",
   "metadata": {},
   "outputs": [
    {
     "name": "stderr",
     "output_type": "stream",
     "text": [
      "\r",
      "  0%|                                                                                                                                             | 0/5 [00:00<?, ?it/s]"
     ]
    }
   ],
   "source": [
    "%%time\n",
    "hidden_layers = [4096] * 5\n",
    "lut = Lut(bits=[8] * (len(hidden_layers) + 1), hidden_layers=hidden_layers, verbose=True)\n",
    "\n",
    "preds_train = lut.train(X_train, y_train)\n",
    "preds_test = lut.predict(X_test)\n",
    "print(f\"Accuracy on training set: {accuracy_score(preds_train, y_train):.4f}\")\n",
    "print(f\"Accuracy on test set: {accuracy_score(preds_test, y_test):.4f}\")"
   ]
  },
  {
   "cell_type": "code",
   "execution_count": 29,
   "id": "772276f7",
   "metadata": {},
   "outputs": [
    {
     "data": {
      "text/plain": [
       "(0.8898, 0.8726)"
      ]
     },
     "execution_count": 29,
     "metadata": {},
     "output_type": "execute_result"
    }
   ],
   "source": [
    "accuracy_score(preds_train, y_train), accuracy_score(preds_test, y_test)"
   ]
  },
  {
   "cell_type": "code",
   "execution_count": 6,
   "id": "2bb9c002",
   "metadata": {},
   "outputs": [],
   "source": [
    "accs_tr = [0.6249,\n",
    "  0.6638333333333334,\n",
    "  0.7486333333333334,\n",
    "  0.7937333333333333,\n",
    "  0.83615,\n",
    "  0.8530833333333333,\n",
    "  0.88195,\n",
    "  0.8777833333333334,\n",
    "  0.88995,\n",
    "  0.89025,\n",
    "  0.8900833333333333,\n",
    "  0.8898]\n",
    "\n",
    "accs_te = [0.6317,\n",
    "  0.6711,\n",
    "  0.749,\n",
    "  0.7861,\n",
    "  0.8266,\n",
    "  0.839,\n",
    "  0.8679,\n",
    "  0.8578,\n",
    "  0.872,\n",
    "  0.878,\n",
    "  0.8743,\n",
    "  0.8726]"
   ]
  },
  {
   "cell_type": "code",
   "execution_count": 14,
   "id": "85418919",
   "metadata": {},
   "outputs": [
    {
     "name": "stdout",
     "output_type": "stream",
     "text": [
      "(2,0.352)(4,0.672)(8,1.312)(16,2.592)(32,5.152)(64,10.272)(128,20.512)(256,40.992)(512,81.952)(1024,163.872)(2048,327.712)(4096,655.392)"
     ]
    }
   ],
   "source": [
    "# nums, lut_sizes\n",
    "for i in range(len(accs_tr)):\n",
    "    print(f\"({nums[i]},{lut_sizes[i]:.3f})\", end=\"\")"
   ]
  },
  {
   "cell_type": "code",
   "execution_count": 18,
   "id": "3bd9b5a0",
   "metadata": {},
   "outputs": [
    {
     "data": {
      "text/plain": [
       "[2.5605,\n",
       " 5.121,\n",
       " 10.242,\n",
       " 20.484,\n",
       " 40.968,\n",
       " 81.936,\n",
       " 163.872,\n",
       " 327.744,\n",
       " 655.488,\n",
       " 1310.976,\n",
       " 2621.952]"
      ]
     },
     "execution_count": 18,
     "metadata": {},
     "output_type": "execute_result"
    }
   ],
   "source": [
    "lut_sizes"
   ]
  },
  {
   "cell_type": "code",
   "execution_count": 19,
   "id": "7d1a7887",
   "metadata": {},
   "outputs": [
    {
     "name": "stdout",
     "output_type": "stream",
     "text": [
      "(2,2.561)(3,5.121)(4,10.242)(5,20.484)(6,40.968)(7,81.936)(8,163.872)(9,327.744)(10,655.488)(11,1310.976)(12,2621.952)"
     ]
    }
   ],
   "source": [
    "lut_sizes = [get_lut_size(i, [1024] * 5 + [1]) / 1000 for i in range(2, 13)]\n",
    "for i in range(2, 13):\n",
    "    print(f\"({i},{lut_sizes[i - 2]:.3f})\", end=\"\")"
   ]
  },
  {
   "cell_type": "markdown",
   "id": "20ed2613",
   "metadata": {},
   "source": [
    "## Viz"
   ]
  },
  {
   "cell_type": "code",
   "execution_count": 81,
   "id": "ea846395",
   "metadata": {},
   "outputs": [],
   "source": [
    "X_, _, _, _ = load_mnist()"
   ]
  },
  {
   "cell_type": "code",
   "execution_count": 95,
   "id": "865b7bea",
   "metadata": {},
   "outputs": [
    {
     "data": {
      "image/png": "[encoded data removed]",
      "text/plain": [
       "<Figure size 432x288 with 1 Axes>"
      ]
     },
     "metadata": {
      "needs_background": "light"
     },
     "output_type": "display_data"
    }
   ],
   "source": [
    "fig, ax = plt.subplots(1, 1)\n",
    "\n",
    "ax.imshow(X_train[7].reshape((28,28)), cmap=\"gray\")\n",
    "xstart = 10\n",
    "ax.set_xlim(xstart, xstart + 10)\n",
    "ystart = 14\n",
    "ax.set_ylim(ystart, ystart + 10)\n",
    "ax.axis(\"off\")\n",
    "\n",
    "plt.tight_layout();"
   ]
  },
  {
   "cell_type": "code",
   "execution_count": 84,
   "id": "6128f5ad",
   "metadata": {},
   "outputs": [],
   "source": [
    "# fig.savefig(r\"thesis/images/mnist_binarized.pdf\", bbox_inches=\"tight\")"
   ]
  },
  {
   "cell_type": "code",
   "execution_count": 96,
   "id": "d0a66e0e",
   "metadata": {},
   "outputs": [
    {
     "data": {
      "image/png": "[encoded data removed]",
      "text/plain": [
       "<Figure size 432x288 with 1 Axes>"
      ]
     },
     "metadata": {
      "needs_background": "light"
     },
     "output_type": "display_data"
    }
   ],
   "source": [
    "fig, ax = plt.subplots(1, 1)\n",
    "\n",
    "ax.imshow(X_[7].reshape((28,28)), cmap=\"gray\")\n",
    "xstart = 10\n",
    "ax.set_xlim(xstart, xstart + 10)\n",
    "ystart = 14\n",
    "ax.set_ylim(ystart, ystart + 10)\n",
    "ax.axis(\"off\")\n",
    "\n",
    "plt.tight_layout();"
   ]
  },
  {
   "cell_type": "code",
   "execution_count": 97,
   "id": "6e6ecbd9",
   "metadata": {},
   "outputs": [],
   "source": [
    "fig.savefig(r\"thesis/images/mnist_raw.pdf\", bbox_inches=\"tight\")"
   ]
  },
  {
   "cell_type": "code",
   "execution_count": 116,
   "id": "de9d557b",
   "metadata": {},
   "outputs": [
    {
     "data": {
      "image/png": "[encoded data removed]",
      "text/plain": [
       "<Figure size 432x432 with 16 Axes>"
      ]
     },
     "metadata": {
      "needs_background": "light"
     },
     "output_type": "display_data"
    }
   ],
   "source": [
    "fig, axs = plt.subplots(4, 4, figsize=(6, 6))\n",
    "\n",
    "choice = np.random.choice(len(X_), size=16)\n",
    "\n",
    "for i, ax in enumerate(axs.flatten()):\n",
    "    ax.imshow(X_[choice[i]].reshape((28,28)), cmap=\"gray\")\n",
    "    ax.axis(\"off\")\n",
    "    \n",
    "plt.tight_layout()"
   ]
  },
  {
   "cell_type": "code",
   "execution_count": 117,
   "id": "8c38b526",
   "metadata": {},
   "outputs": [],
   "source": [
    "# fig.savefig(r\"thesis/images/mnist.pdf\", bbox_inches=\"tight\")"
   ]
  }
 ],
 "metadata": {
  "kernelspec": {
   "display_name": "Python 3 (ipykernel)",
   "language": "python",
   "name": "python3"
  },
  "language_info": {
   "codemirror_mode": {
    "name": "ipython",
    "version": 3
   },
   "file_extension": ".py",
   "mimetype": "text/x-python",
   "name": "python",
   "nbconvert_exporter": "python",
   "pygments_lexer": "ipython3",
   "version": "3.9.7"
  }
 },
 "nbformat": 4,
 "nbformat_minor": 5
}
