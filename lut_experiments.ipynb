{
 "cells": [
  {
   "cell_type": "code",
   "execution_count": 1,
   "id": "26631f2b",
   "metadata": {},
   "outputs": [],
   "source": [
    "%load_ext autoreload\n",
    "%autoreload 2"
   ]
  },
  {
   "cell_type": "code",
   "execution_count": 2,
   "id": "ecfb2b52",
   "metadata": {},
   "outputs": [],
   "source": [
    "import numpy as np\n",
    "import copy\n",
    "\n",
    "from sklearn import datasets\n",
    "from sklearn.decomposition import PCA\n",
    "from sklearn.preprocessing import MinMaxScaler\n",
    "from sklearn.metrics import accuracy_score\n",
    "from sklearn.model_selection import train_test_split\n",
    "from sklearn.utils import shuffle\n",
    "\n",
    "import matplotlib.pyplot as plt\n",
    "\n",
    "from tqdm.notebook import tqdm\n",
    "\n",
    "color_list = [x[\"color\"] for x in plt.rcParams[\"axes.prop_cycle\"]]\n",
    "\n",
    "from matplotlib.ticker import MaxNLocator\n",
    "\n",
    "import multiprocessing\n",
    "import os"
   ]
  },
  {
   "cell_type": "code",
   "execution_count": 3,
   "id": "aaa4e549",
   "metadata": {},
   "outputs": [],
   "source": [
    "from lut import *"
   ]
  },
  {
   "cell_type": "markdown",
   "id": "1f16cf79",
   "metadata": {},
   "source": [
    "## Custom dataset"
   ]
  },
  {
   "cell_type": "code",
   "execution_count": null,
   "id": "d9b69b5b",
   "metadata": {},
   "outputs": [],
   "source": [
    "from sklearn.datasets import make_moons"
   ]
  },
  {
   "cell_type": "code",
   "execution_count": null,
   "id": "6ead5b76",
   "metadata": {},
   "outputs": [],
   "source": [
    "X_float, y_float = make_moons(n_samples=1000, shuffle=True, noise=0.05, random_state=None)"
   ]
  },
  {
   "cell_type": "code",
   "execution_count": null,
   "id": "2bc7b53d",
   "metadata": {},
   "outputs": [],
   "source": [
    "scaler = MinMaxScaler(feature_range=(0, 1))\n",
    "X_tf = scaler.fit_transform(X_float)\n",
    "X = X_tf > 0.5\n",
    "\n",
    "y = y_float.astype(bool)"
   ]
  },
  {
   "cell_type": "code",
   "execution_count": null,
   "id": "8eae1e7d",
   "metadata": {},
   "outputs": [],
   "source": [
    "lut = Lut(2, [100, 100, 100, 100])\n",
    "preds_train = lut.train(X, y)\n",
    "\n",
    "print(f\"Accuracy on training set: {accuracy_score(preds_train, y):.2f}%\")"
   ]
  },
  {
   "cell_type": "code",
   "execution_count": null,
   "id": "7585f9f7",
   "metadata": {},
   "outputs": [],
   "source": [
    "fig, axs = plt.subplots(1, 2, figsize=(8, 4))\n",
    "\n",
    "ax = axs[0]\n",
    "ax.scatter(X_tf[:, 0], X_tf[:, 1], c=y_float, cmap=\"bwr\");\n",
    "\n",
    "ax = axs[1]\n",
    "ax.scatter(X_tf[:, 0], X_tf[:, 1], c=preds_train, cmap=\"bwr\")\n",
    "\n",
    "plt.tight_layout();"
   ]
  },
  {
   "cell_type": "markdown",
   "id": "d890273e",
   "metadata": {},
   "source": [
    "## MNIST"
   ]
  },
  {
   "cell_type": "code",
   "execution_count": 5,
   "id": "5119df91",
   "metadata": {},
   "outputs": [],
   "source": [
    "data = np.load(\"data/lut/MNIST.npz\", allow_pickle=True)\n",
    "X_ = data[\"X\"]\n",
    "y_ = data[\"y\"]\n",
    "\n",
    "scaler = MinMaxScaler(feature_range=(0, 1))\n",
    "X_tf = scaler.fit_transform(X_)\n",
    "\n",
    "X = (X_tf > 0.5).astype(bool)\n",
    "y = (y_ == 0) | (y_ == 1) | (y_ == 2) | (y_ == 3) | (y_ == 4)\n",
    "\n",
    "X, y = shuffle(X, y, n_samples=10_000, random_state=100)\n",
    "\n",
    "X_train, X_test, y_train, y_test, = train_test_split(\n",
    "    X, y, test_size=0.33, random_state=42, shuffle=False\n",
    ")"
   ]
  },
  {
   "cell_type": "code",
   "execution_count": 7,
   "id": "e354c3a8",
   "metadata": {},
   "outputs": [
    {
     "name": "stdout",
     "output_type": "stream",
     "text": [
      "Accuracy on training set: 0.83%\n",
      "Accuracy on test set: 0.81%\n",
      "CPU times: user 403 ms, sys: 273 ms, total: 675 ms\n",
      "Wall time: 1.2 s\n"
     ]
    }
   ],
   "source": [
    "%%time\n",
    "lut = Lut(6, [100, 100, 100])\n",
    "preds_train = lut.train(X_train, y_train)\n",
    "preds_test = lut.predict(X_test)\n",
    "\n",
    "print(f\"Accuracy on training set: {accuracy_score(preds_train, y_train):.2f}%\")\n",
    "print(f\"Accuracy on test set: {accuracy_score(preds_test, y_test):.2f}%\")"
   ]
  },
  {
   "cell_type": "markdown",
   "id": "abaa65c6",
   "metadata": {},
   "source": [
    "# MNIST PCA"
   ]
  },
  {
   "cell_type": "code",
   "execution_count": 36,
   "id": "7a97d750",
   "metadata": {},
   "outputs": [],
   "source": [
    "from lut_old import *\n",
    "import pickle"
   ]
  },
  {
   "cell_type": "code",
   "execution_count": 49,
   "id": "0b6fa271",
   "metadata": {},
   "outputs": [
    {
     "data": {
      "application/vnd.jupyter.widget-view+json": {
       "model_id": "03e70af19f154b9e9a42242e32fdae2a",
       "version_major": 2,
       "version_minor": 0
      },
      "text/plain": [
       "  0%|          | 0/19 [00:00<?, ?it/s]"
      ]
     },
     "metadata": {},
     "output_type": "display_data"
    }
   ],
   "source": [
    "data = np.load(\"data/lut/MNIST.npz\", allow_pickle=True)\n",
    "X_ = data[\"X\"]\n",
    "y_ = data[\"y\"]\n",
    "# y_bool = (y_ == 0) | (y_ == 1) | (y_ == 2) | (y_ == 3) | (y_ == 4)\n",
    "y_bool = np.random.choice([True, False], size=X_.shape[0])\n",
    "\n",
    "train_acc = []\n",
    "test_acc = []\n",
    "rnd = []\n",
    "range_k = range(2, 21)\n",
    "for k in tqdm(range_k):\n",
    "    pca = PCA(n_components=k)\n",
    "    X_pca = pca.fit_transform(X_)\n",
    "    scaler = MinMaxScaler(feature_range=(0, 1))\n",
    "    X_tf = scaler.fit_transform(X_pca)\n",
    "    X = (X_tf > 0.5).astype(bool)\n",
    "    X, y = shuffle(X, y_bool, n_samples=10_000, random_state=100)\n",
    "    X_train, X_test, y_train, y_test, = train_test_split(\n",
    "        X, y, test_size=0.33, random_state=42, shuffle=False\n",
    "    )\n",
    "    lut = Lut(k)\n",
    "    lut.train(np.hstack((X_train, y_train[:, None])))\n",
    "    preds_train = lut.predict(np.hstack((X_train, y_train[:, None])))\n",
    "    preds_test = lut.predict(np.hstack((X_test, y_test[:, None])))\n",
    "\n",
    "    train_acc.append(accuracy_score(preds_train, y_train))\n",
    "    test_acc.append(accuracy_score(preds_test, y_test))\n",
    "    rnd.append(lut.rnd.sum() / len(lut.rnd.ravel()))\n",
    "\n",
    "with open(r\"data/lut/single_lut_random.pkl\", \"wb\") as f:\n",
    "    pickle.dump(\n",
    "        [\n",
    "            train_acc,\n",
    "            test_acc,\n",
    "            rnd,\n",
    "            range_k,\n",
    "            \"contents: train_acc, test_acc, rnd, range_k, labels random\",\n",
    "        ],\n",
    "        f,\n",
    "    )"
   ]
  },
  {
   "cell_type": "code",
   "execution_count": 73,
   "id": "117cf2a3",
   "metadata": {},
   "outputs": [
    {
     "data": {
      "image/png": "[encoded data removed]",
      "text/plain": [
       "<Figure size 504x288 with 4 Axes>"
      ]
     },
     "metadata": {
      "needs_background": "light"
     },
     "output_type": "display_data"
    }
   ],
   "source": [
    "color_list = [x[\"color\"] for x in plt.rcParams[\"axes.prop_cycle\"]]\n",
    "\n",
    "fig, axs = plt.subplots(1, 2, figsize=(7, 4))\n",
    "\n",
    "with open(r\"data/lut/single_lut_not_random.pkl\", \"rb\") as f:\n",
    "    tmp = pickle.load(f)\n",
    "train_acc = tmp[0]\n",
    "test_acc = tmp[1]\n",
    "rnd = tmp[2]\n",
    "range_k = tmp[3]\n",
    "\n",
    "ax = axs[0]\n",
    "ax.plot(range_k, train_acc, label=\"Train\")\n",
    "ax.plot(range_k, test_acc, label=\"Test\", ls=\"--\")\n",
    "ax.legend()\n",
    "ax.grid()\n",
    "ax.set_title(\"Actual labels\")\n",
    "ax.set_xlabel(\"Number of bits\")\n",
    "ax.set_ylabel(\"Accuracy\")\n",
    "ax.set_ylim(0.45, 1.02)\n",
    "\n",
    "ax2 = ax.twinx()\n",
    "ax2.plot(range_k, rnd, label=\"% random\", c=color_list[2], ls=\"-.\")\n",
    "ax2.legend(loc=\"lower right\")\n",
    "ax2.set_ylabel(\"Percentage of lut entries random\")\n",
    "ax2.set_ylim(-0.05, 1.05)\n",
    "\n",
    "with open(r\"data/lut/single_lut_random.pkl\", \"rb\") as f:\n",
    "    tmp = pickle.load(f)\n",
    "train_acc = tmp[0]\n",
    "test_acc = tmp[1]\n",
    "rnd = tmp[2]\n",
    "range_k = tmp[3]\n",
    "\n",
    "ax = axs[1]\n",
    "ax.plot(range_k, train_acc, label=\"Train\")\n",
    "ax.plot(range_k, test_acc, label=\"Test\", ls=\"--\")\n",
    "ax.legend()\n",
    "ax.set_title(\"Randomly permuted labels\")\n",
    "ax.set_xlabel(\"Number of bits\")\n",
    "ax.set_ylabel(\"Accuracy\")\n",
    "ax.set_ylim(0.45, 1.02)\n",
    "ax.grid()\n",
    "\n",
    "ax2 = ax.twinx()\n",
    "ax2.set_ylabel(\"Percentage of lut entries random\")\n",
    "ax2.plot(range_k, rnd, label=\"% random\", c=color_list[2], ls=\"-.\")\n",
    "ax2.legend(loc=\"lower right\", bbox_to_anchor=(1, .15))\n",
    "ax2.set_ylim(-0.05, 1.05)\n",
    "\n",
    "plt.suptitle(\"Performance of a single lut on 0-4 vs. 5-9 MNIST classification\\n(PCA used to reduce dimensions to corresponding bit size)\")\n",
    "\n",
    "plt.tight_layout();"
   ]
  },
  {
   "cell_type": "code",
   "execution_count": 74,
   "id": "e373480d",
   "metadata": {},
   "outputs": [],
   "source": [
    "fig.savefig(r\"seminar/images/single_lut_exp.pdf\", bbox_inches=\"tight\")"
   ]
  },
  {
   "cell_type": "code",
   "execution_count": 56,
   "id": "ec17101d",
   "metadata": {},
   "outputs": [
    {
     "data": {
      "image/png": "[encoded data removed]",
      "text/plain": [
       "<Figure size 504x288 with 4 Axes>"
      ]
     },
     "metadata": {
      "needs_background": "light"
     },
     "output_type": "display_data"
    }
   ],
   "source": [
    "import numpy as np\n",
    "import copy\n",
    "\n",
    "def count_recursive(cnt, x):\n",
    "    \"\"\"\n",
    "    Given an array that stores counts of shape ([2] * (bits + 1)) (the last two dimensions\n",
    "    for y0 and y1, respectively), increase the count by 1 for given pattern (all but last\n",
    "    entries of x) and whether it's y0 or y1 (the last entry of x). This function is recursive.\n",
    "\n",
    "    Parameters\n",
    "    ==========\n",
    "    cnt: np.ndarray\n",
    "        Array that stores counts for a given dataset.\n",
    "    x: list\n",
    "        Single training example as list. The last entry is for y.\n",
    "    \"\"\"\n",
    "    if len(x) > 1:\n",
    "        idx = x.pop(0)\n",
    "        count_recursive(cnt[int(idx)], x)\n",
    "    else:\n",
    "        cnt[int(x[0])] += 1\n",
    "\n",
    "\n",
    "class Lut:\n",
    "    def __init__(self, bits):\n",
    "        self.bits = bits\n",
    "        self.lut = None\n",
    "        self.rnd = None\n",
    "        self.cnt = None\n",
    "        self.cols = None\n",
    "\n",
    "    def train(self, training_set, cols=None):\n",
    "        \"\"\"\n",
    "        Train the lut given a training set.\n",
    "\n",
    "        Parameters\n",
    "        ==========\n",
    "        training_set: numpy.ndarray\n",
    "            Numpy array of shape (N, self.bits + 1) and dtype bool. The last column is for y.\n",
    "        cols: list, optional\n",
    "            List of indices to select columns. The lut will then be trained on a training set\n",
    "            with less columns.\n",
    "        \"\"\"\n",
    "        assert self.lut is None, \"Lut is already trained!\"\n",
    "        if cols is not None:\n",
    "            assert len(cols) == self.bits, f\"Number of selected columns has to match bit size\"\n",
    "            self.cols = cols\n",
    "            cols_ = copy.deepcopy(cols)\n",
    "            cols_.append(-1)\n",
    "            training_set_ = training_set[:, cols_]\n",
    "        else:\n",
    "            self.cols = list(range(training_set.shape[1] - 1))\n",
    "            training_set_ = training_set\n",
    "\n",
    "        cnt = np.zeros([2] * (self.bits + 1), dtype=np.uint32)\n",
    "        for x in training_set_:\n",
    "            count_recursive(cnt, list(x))\n",
    "\n",
    "        cnt_ = cnt.reshape((-1, 2))\n",
    "\n",
    "        lut = np.zeros(([2] * (training_set_.shape[1] - 1)), dtype=bool)\n",
    "        rnd = np.zeros_like(lut)\n",
    "\n",
    "        for i in range(2 ** self.bits):\n",
    "            if cnt_[i, 0] > cnt_[i, 1]:\n",
    "                lut.ravel()[i] = 0\n",
    "                rnd.ravel()[i] = 0\n",
    "            elif cnt_[i, 0] < cnt_[i, 1]:\n",
    "                lut.ravel()[i] = 1\n",
    "                rnd.ravel()[i] = 0\n",
    "            else:\n",
    "                lut.ravel()[i] = np.random.choice([0, 1])\n",
    "                rnd.ravel()[i] = 1\n",
    "\n",
    "        self.lut = lut\n",
    "        self.cnt = cnt\n",
    "        self.rnd = rnd\n",
    "\n",
    "    def predict(self, data_set):\n",
    "        assert self.lut is not None, f\"Lut not trained yet!\"\n",
    "        preds = np.zeros((data_set.shape[0],), dtype=bool)\n",
    "        for idx, x in enumerate(data_set):\n",
    "            cols = copy.deepcopy(self.cols)\n",
    "            preds[idx] = classify_single_training_example(self, cols, x)\n",
    "        return preds\n",
    "\n",
    "    def __repr__(self):\n",
    "        if self.lut is not None:\n",
    "            return f\"Trained lut, {self.bits} bits\"\n",
    "        else:\n",
    "            return f\"Empty lut, {self.bits} bits\"\n",
    "\n",
    "    def get_lut_table(self):\n",
    "        if self.lut is not None:\n",
    "            string = \"\"\n",
    "            for i in range(2 ** self.bits):\n",
    "                bit_string = \"0\" * (self.bits - len(f\"{i:b}\")) + f\"{i:b}\"\n",
    "                is_rnd = \"*\" if self.rnd.ravel()[i] else \"\"\n",
    "                string += bit_string + \"  \" + f\"{self.lut.ravel()[i]:d}\" + is_rnd + \"\\n\"\n",
    "            return string\n",
    "        else:\n",
    "            return f\"Lut not trained yet, no table to return\"\n",
    "\n",
    "    def __getitem__(self, idx):\n",
    "        return self.lut[idx]\n",
    "\n",
    "    def get_cnt_table(self):\n",
    "        \"\"\"\n",
    "        Returns a string of the count table for the lut.\n",
    "        \"\"\"\n",
    "        assert self.cnt is not None, \"Lut not trained yet, no counts to return\"\n",
    "        cnt_ = self.cnt.reshape((-1, 2))\n",
    "        string = \"\"\n",
    "        for i in range(2 ** self.bits):\n",
    "            bit_string = \"0\" * (self.bits - len(f\"{i:b}\")) + f\"{i:b}\"\n",
    "            string += bit_string + \"  \" + f\"{cnt_[i, 0]} \" + f\"{cnt_[i, 1]}\" + \"\\n\"\n",
    "        return string\n",
    "\n",
    "\n",
    "def classify_single_training_example(lut, cols, training_example):\n",
    "    \"\"\"\n",
    "    Given a single training example and list of column indices that the lut operates on,\n",
    "    classify that bit pattern.\n",
    "\n",
    "    Parameters\n",
    "    lut: Lut\n",
    "        Lookup table object.\n",
    "    cols: list\n",
    "        List of columns that the lut operates on.\n",
    "    training_example: list\n",
    "        Single row from a training set.\n",
    "    \"\"\"\n",
    "    if len(cols) > 1:\n",
    "        idx = cols.pop(0)\n",
    "        return classify_single_training_example(lut[int(training_example[idx])], cols, training_example)\n",
    "    else:\n",
    "        return lut[int(training_example[cols[0]])]\n",
    "\n",
    "\n",
    "def training_set_from_luts(luts, orig_training_set):\n",
    "    \"\"\"\n",
    "    Given a list of luts trained on a subset of the original dataset, obtain a new training set\n",
    "    where the y labels are the same and the features come according to what the luts classify.\n",
    "\n",
    "    Parameters\n",
    "    ==========\n",
    "    luts: array-like\n",
    "        List of luts.\n",
    "    orig_training_set: np.ndarray\n",
    "        Original training_set where the luts were trained on.\n",
    "    \"\"\"\n",
    "    training_set = np.zeros((orig_training_set.shape[0], len(luts) + 1), dtype=bool)\n",
    "    training_set[:, -1] = orig_training_set[:, -1]\n",
    "    for i in range(len(orig_training_set)):\n",
    "        for j in range(len(luts)):\n",
    "            cols = copy.deepcopy(luts[j].cols)\n",
    "            x = list(orig_training_set[i])\n",
    "            training_set[i, j] = classify_single_training_example(luts[j], cols, x)\n",
    "\n",
    "    return training_set\n",
    "\n",
    "\n",
    "def get_lut_performance(lut, X_train, X_test):\n",
    "    preds = lut.predict(X_train)\n",
    "    print(f\"Accuracy on training set: {accuracy_score(preds, X_train[:, -1]):.2f}%\")\n",
    "    preds = lut.predict(X_test)\n",
    "    print(f\"Accuracy on test set: {accuracy_score(preds, X_test[:, -1]):.2f}%\")\n",
    "    print(f\"{lut.rnd.sum() / len(lut.rnd.ravel()) * 100:.2f}% of lut entries are random\")"
   ]
  },
  {
   "cell_type": "markdown",
   "id": "824a0dc7",
   "metadata": {},
   "source": [
    "## Percentage random"
   ]
  },
  {
   "cell_type": "code",
   "execution_count": null,
   "id": "178a1c9b",
   "metadata": {},
   "outputs": [],
   "source": [
    "rnd_arr = []\n",
    "for i in range(2, 11):\n",
    "    lut = Lut(6, [100] * i)\n",
    "    preds_train = lut.train(X_train, y_train)\n",
    "    rnd_arr.append([x.sum() / len(x.ravel()) for x in lut.rnd_arr_])"
   ]
  },
  {
   "cell_type": "code",
   "execution_count": null,
   "id": "e07ad00e",
   "metadata": {},
   "outputs": [],
   "source": [
    "fig, ax = plt.subplots(1, 1)\n",
    "for i, rnd in enumerate(rnd_arr):\n",
    "    ax.plot(range(2, len(rnd) + 2), rnd, label=i + 2)\n",
    "    \n",
    "ax.grid()\n",
    "ax.set_xticks(range(2, 13))\n",
    "ax.set_xticklabels(range(2, 13))\n",
    "ax.set_xlabel(\"Hidden layer\")\n",
    "ax.set_ylabel(\"Percentage of lut entries random\")\n",
    "ax.legend(bbox_to_anchor=(1, 1), loc=\"upper left\", title=\"Number of\\nhidden layers\\nof respective\\nlut network\")\n",
    "ax.set_title(\"Percentage of random entries for different architectures\\nEach hidden layer has 100 luts\");\n",
    "# ax.xaxis.set_major_locator(MaxNLocator(integer=True));"
   ]
  }
 ],
 "metadata": {
  "kernelspec": {
   "display_name": "Python 3 (ipykernel)",
   "language": "python",
   "name": "python3"
  },
  "language_info": {
   "codemirror_mode": {
    "name": "ipython",
    "version": 3
   },
   "file_extension": ".py",
   "mimetype": "text/x-python",
   "name": "python",
   "nbconvert_exporter": "python",
   "pygments_lexer": "ipython3",
   "version": "3.9.7"
  }
 },
 "nbformat": 4,
 "nbformat_minor": 5
}
