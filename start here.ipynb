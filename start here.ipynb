{
 "cells": [
  {
   "cell_type": "markdown",
   "id": "89da6f45",
   "metadata": {},
   "source": [
    "# LUT"
   ]
  },
  {
   "cell_type": "markdown",
   "id": "6173da53",
   "metadata": {},
   "source": [
    "## First steps\n",
    "\n",
    "Download these files from [LeCun's website](http://yann.lecun.com/exdb/mnist/), extract them and put them in a folder called `data/mnist` which is in the same directory as this Jupyter notebook.\n",
    "\n",
    "- [train-images-idx3-ubyte.gz](http://yann.lecun.com/exdb/mnist/train-images-idx3-ubyte.gz)\n",
    "- [train-labels-idx1-ubyte.gz](http://yann.lecun.com/exdb/mnist/train-labels-idx1-ubyte.gz)\n",
    "- [t10k-images-idx3-ubyte.gz](http://yann.lecun.com/exdb/mnist/t10k-images-idx3-ubyte.gz)\n",
    "- [t10k-labels-idx1-ubyte.gz](http://yann.lecun.com/exdb/mnist/t10k-labels-idx1-ubyte.gz)"
   ]
  },
  {
   "cell_type": "code",
   "execution_count": 1,
   "id": "933de48b",
   "metadata": {},
   "outputs": [],
   "source": [
    "%load_ext autoreload\n",
    "%autoreload 2"
   ]
  },
  {
   "cell_type": "code",
   "execution_count": 2,
   "id": "5844520e",
   "metadata": {},
   "outputs": [],
   "source": [
    "import numpy as np\n",
    "from sklearn import datasets\n",
    "from sklearn.decomposition import PCA\n",
    "from sklearn.preprocessing import MinMaxScaler\n",
    "from sklearn.metrics import accuracy_score\n",
    "from sklearn.model_selection import train_test_split\n",
    "from sklearn.utils import shuffle\n",
    "import matplotlib.pyplot as plt\n",
    "from tqdm.notebook import tqdm\n",
    "color_list = [x[\"color\"] for x in plt.rcParams[\"axes.prop_cycle\"]]\n",
    "from matplotlib.ticker import MaxNLocator\n",
    "import scipy\n",
    "\n",
    "from lut import *"
   ]
  },
  {
   "cell_type": "code",
   "execution_count": 5,
   "id": "b9656aeb",
   "metadata": {},
   "outputs": [],
   "source": [
    "from mnist import load_mnist, load_mnist_binary\n",
    "\n",
    "X_train, X_test, y_train, y_test = load_mnist_binary()"
   ]
  },
  {
   "cell_type": "code",
   "execution_count": 6,
   "id": "3dca2f70",
   "metadata": {},
   "outputs": [
    {
     "name": "stderr",
     "output_type": "stream",
     "text": [
      "100%|██████████████████████████████████████████████████████████████████████████████████████████████████████████████████████████████████████████████| 5/5 [00:06<00:00,  1.28s/it]\n"
     ]
    },
    {
     "name": "stdout",
     "output_type": "stream",
     "text": [
      "Accuracy on training set: 0.81\n",
      "Accuracy on test set: 0.81\n",
      "CPU times: user 3.46 s, sys: 1.52 s, total: 4.98 s\n",
      "Wall time: 7.48 s\n"
     ]
    }
   ],
   "source": [
    "%%time\n",
    "hidden_layers = [32] * 5\n",
    "lut = Lut(bits=[6] * (len(hidden_layers) + 1), hidden_layers=hidden_layers, verbose=True)\n",
    "\n",
    "preds_train = lut.train(X_train, y_train)\n",
    "preds_test = lut.predict(X_test)\n",
    "print(f\"Accuracy on training set: {accuracy_score(preds_train, y_train):.2f}\")\n",
    "print(f\"Accuracy on test set: {accuracy_score(preds_test, y_test):.2f}\")"
   ]
  },
  {
   "cell_type": "code",
   "execution_count": null,
   "id": "52954287",
   "metadata": {},
   "outputs": [],
   "source": []
  }
 ],
 "metadata": {
  "kernelspec": {
   "display_name": "Python 3 (ipykernel)",
   "language": "python",
   "name": "python3"
  },
  "language_info": {
   "codemirror_mode": {
    "name": "ipython",
    "version": 3
   },
   "file_extension": ".py",
   "mimetype": "text/x-python",
   "name": "python",
   "nbconvert_exporter": "python",
   "pygments_lexer": "ipython3",
   "version": "3.9.7"
  }
 },
 "nbformat": 4,
 "nbformat_minor": 5
}
